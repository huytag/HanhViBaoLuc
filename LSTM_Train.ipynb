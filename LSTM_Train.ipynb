{
  "nbformat": 4,
  "nbformat_minor": 0,
  "metadata": {
    "colab": {
      "name": "LSTM_Train.ipynb",
      "provenance": [],
      "collapsed_sections": []
    },
    "kernelspec": {
      "name": "python3",
      "display_name": "Python 3"
    },
    "accelerator": "GPU"
  },
  "cells": [
    {
      "cell_type": "markdown",
      "metadata": {
        "id": "Ociz_GwpgGiA"
      },
      "source": [
        "Install tensorflow gpu"
      ]
    },
    {
      "cell_type": "code",
      "metadata": {
        "id": "XTZNdbAXgApw",
        "outputId": "4cad031f-3d8b-4bb4-b3db-32c08f08ec7c",
        "colab": {
          "base_uri": "https://localhost:8080/",
          "height": 717
        }
      },
      "source": [
        "!pip install tensorflow-gpu"
      ],
      "execution_count": 1,
      "outputs": [
        {
          "output_type": "stream",
          "text": [
            "Collecting tensorflow-gpu\n",
            "\u001b[?25l  Downloading https://files.pythonhosted.org/packages/18/99/ac32fd13d56e40d4c3e6150030132519997c0bb1f06f448d970e81b177e5/tensorflow_gpu-2.3.1-cp36-cp36m-manylinux2010_x86_64.whl (320.4MB)\n",
            "\u001b[K     |████████████████████████████████| 320.4MB 52kB/s \n",
            "\u001b[?25hRequirement already satisfied: keras-preprocessing<1.2,>=1.1.1 in /usr/local/lib/python3.6/dist-packages (from tensorflow-gpu) (1.1.2)\n",
            "Requirement already satisfied: wrapt>=1.11.1 in /usr/local/lib/python3.6/dist-packages (from tensorflow-gpu) (1.12.1)\n",
            "Requirement already satisfied: six>=1.12.0 in /usr/local/lib/python3.6/dist-packages (from tensorflow-gpu) (1.15.0)\n",
            "Requirement already satisfied: tensorboard<3,>=2.3.0 in /usr/local/lib/python3.6/dist-packages (from tensorflow-gpu) (2.3.0)\n",
            "Requirement already satisfied: h5py<2.11.0,>=2.10.0 in /usr/local/lib/python3.6/dist-packages (from tensorflow-gpu) (2.10.0)\n",
            "Requirement already satisfied: absl-py>=0.7.0 in /usr/local/lib/python3.6/dist-packages (from tensorflow-gpu) (0.10.0)\n",
            "Requirement already satisfied: google-pasta>=0.1.8 in /usr/local/lib/python3.6/dist-packages (from tensorflow-gpu) (0.2.0)\n",
            "Requirement already satisfied: numpy<1.19.0,>=1.16.0 in /usr/local/lib/python3.6/dist-packages (from tensorflow-gpu) (1.18.5)\n",
            "Requirement already satisfied: protobuf>=3.9.2 in /usr/local/lib/python3.6/dist-packages (from tensorflow-gpu) (3.12.4)\n",
            "Requirement already satisfied: astunparse==1.6.3 in /usr/local/lib/python3.6/dist-packages (from tensorflow-gpu) (1.6.3)\n",
            "Requirement already satisfied: tensorflow-estimator<2.4.0,>=2.3.0 in /usr/local/lib/python3.6/dist-packages (from tensorflow-gpu) (2.3.0)\n",
            "Requirement already satisfied: termcolor>=1.1.0 in /usr/local/lib/python3.6/dist-packages (from tensorflow-gpu) (1.1.0)\n",
            "Requirement already satisfied: wheel>=0.26 in /usr/local/lib/python3.6/dist-packages (from tensorflow-gpu) (0.35.1)\n",
            "Requirement already satisfied: gast==0.3.3 in /usr/local/lib/python3.6/dist-packages (from tensorflow-gpu) (0.3.3)\n",
            "Requirement already satisfied: grpcio>=1.8.6 in /usr/local/lib/python3.6/dist-packages (from tensorflow-gpu) (1.33.1)\n",
            "Requirement already satisfied: opt-einsum>=2.3.2 in /usr/local/lib/python3.6/dist-packages (from tensorflow-gpu) (3.3.0)\n",
            "Requirement already satisfied: google-auth<2,>=1.6.3 in /usr/local/lib/python3.6/dist-packages (from tensorboard<3,>=2.3.0->tensorflow-gpu) (1.17.2)\n",
            "Requirement already satisfied: setuptools>=41.0.0 in /usr/local/lib/python3.6/dist-packages (from tensorboard<3,>=2.3.0->tensorflow-gpu) (50.3.0)\n",
            "Requirement already satisfied: tensorboard-plugin-wit>=1.6.0 in /usr/local/lib/python3.6/dist-packages (from tensorboard<3,>=2.3.0->tensorflow-gpu) (1.7.0)\n",
            "Requirement already satisfied: google-auth-oauthlib<0.5,>=0.4.1 in /usr/local/lib/python3.6/dist-packages (from tensorboard<3,>=2.3.0->tensorflow-gpu) (0.4.1)\n",
            "Requirement already satisfied: markdown>=2.6.8 in /usr/local/lib/python3.6/dist-packages (from tensorboard<3,>=2.3.0->tensorflow-gpu) (3.3.2)\n",
            "Requirement already satisfied: werkzeug>=0.11.15 in /usr/local/lib/python3.6/dist-packages (from tensorboard<3,>=2.3.0->tensorflow-gpu) (1.0.1)\n",
            "Requirement already satisfied: requests<3,>=2.21.0 in /usr/local/lib/python3.6/dist-packages (from tensorboard<3,>=2.3.0->tensorflow-gpu) (2.23.0)\n",
            "Requirement already satisfied: pyasn1-modules>=0.2.1 in /usr/local/lib/python3.6/dist-packages (from google-auth<2,>=1.6.3->tensorboard<3,>=2.3.0->tensorflow-gpu) (0.2.8)\n",
            "Requirement already satisfied: cachetools<5.0,>=2.0.0 in /usr/local/lib/python3.6/dist-packages (from google-auth<2,>=1.6.3->tensorboard<3,>=2.3.0->tensorflow-gpu) (4.1.1)\n",
            "Requirement already satisfied: rsa<5,>=3.1.4; python_version >= \"3\" in /usr/local/lib/python3.6/dist-packages (from google-auth<2,>=1.6.3->tensorboard<3,>=2.3.0->tensorflow-gpu) (4.6)\n",
            "Requirement already satisfied: requests-oauthlib>=0.7.0 in /usr/local/lib/python3.6/dist-packages (from google-auth-oauthlib<0.5,>=0.4.1->tensorboard<3,>=2.3.0->tensorflow-gpu) (1.3.0)\n",
            "Requirement already satisfied: importlib-metadata; python_version < \"3.8\" in /usr/local/lib/python3.6/dist-packages (from markdown>=2.6.8->tensorboard<3,>=2.3.0->tensorflow-gpu) (2.0.0)\n",
            "Requirement already satisfied: urllib3!=1.25.0,!=1.25.1,<1.26,>=1.21.1 in /usr/local/lib/python3.6/dist-packages (from requests<3,>=2.21.0->tensorboard<3,>=2.3.0->tensorflow-gpu) (1.24.3)\n",
            "Requirement already satisfied: idna<3,>=2.5 in /usr/local/lib/python3.6/dist-packages (from requests<3,>=2.21.0->tensorboard<3,>=2.3.0->tensorflow-gpu) (2.10)\n",
            "Requirement already satisfied: chardet<4,>=3.0.2 in /usr/local/lib/python3.6/dist-packages (from requests<3,>=2.21.0->tensorboard<3,>=2.3.0->tensorflow-gpu) (3.0.4)\n",
            "Requirement already satisfied: certifi>=2017.4.17 in /usr/local/lib/python3.6/dist-packages (from requests<3,>=2.21.0->tensorboard<3,>=2.3.0->tensorflow-gpu) (2020.6.20)\n",
            "Requirement already satisfied: pyasn1<0.5.0,>=0.4.6 in /usr/local/lib/python3.6/dist-packages (from pyasn1-modules>=0.2.1->google-auth<2,>=1.6.3->tensorboard<3,>=2.3.0->tensorflow-gpu) (0.4.8)\n",
            "Requirement already satisfied: oauthlib>=3.0.0 in /usr/local/lib/python3.6/dist-packages (from requests-oauthlib>=0.7.0->google-auth-oauthlib<0.5,>=0.4.1->tensorboard<3,>=2.3.0->tensorflow-gpu) (3.1.0)\n",
            "Requirement already satisfied: zipp>=0.5 in /usr/local/lib/python3.6/dist-packages (from importlib-metadata; python_version < \"3.8\"->markdown>=2.6.8->tensorboard<3,>=2.3.0->tensorflow-gpu) (3.3.1)\n",
            "Installing collected packages: tensorflow-gpu\n",
            "Successfully installed tensorflow-gpu-2.3.1\n"
          ],
          "name": "stdout"
        }
      ]
    },
    {
      "cell_type": "code",
      "metadata": {
        "id": "_sxcWqfkgpvk",
        "outputId": "cbaefe6c-6d64-4a25-9151-c33c325efd9e",
        "colab": {
          "base_uri": "https://localhost:8080/",
          "height": 357
        }
      },
      "source": [
        "!nvidia-smi"
      ],
      "execution_count": 2,
      "outputs": [
        {
          "output_type": "stream",
          "text": [
            "Wed Oct 28 08:10:51 2020       \n",
            "+-----------------------------------------------------------------------------+\n",
            "| NVIDIA-SMI 455.23.05    Driver Version: 418.67       CUDA Version: 10.1     |\n",
            "|-------------------------------+----------------------+----------------------+\n",
            "| GPU  Name        Persistence-M| Bus-Id        Disp.A | Volatile Uncorr. ECC |\n",
            "| Fan  Temp  Perf  Pwr:Usage/Cap|         Memory-Usage | GPU-Util  Compute M. |\n",
            "|                               |                      |               MIG M. |\n",
            "|===============================+======================+======================|\n",
            "|   0  Tesla K80           Off  | 00000000:00:04.0 Off |                    0 |\n",
            "| N/A   32C    P8    29W / 149W |      0MiB / 11441MiB |      0%      Default |\n",
            "|                               |                      |                 ERR! |\n",
            "+-------------------------------+----------------------+----------------------+\n",
            "                                                                               \n",
            "+-----------------------------------------------------------------------------+\n",
            "| Processes:                                                                  |\n",
            "|  GPU   GI   CI        PID   Type   Process name                  GPU Memory |\n",
            "|        ID   ID                                                   Usage      |\n",
            "|=============================================================================|\n",
            "|  No running processes found                                                 |\n",
            "+-----------------------------------------------------------------------------+\n"
          ],
          "name": "stdout"
        }
      ]
    },
    {
      "cell_type": "code",
      "metadata": {
        "id": "iTfNzeF3gs-H",
        "outputId": "5df7b056-6ec8-4cd5-d52f-6196b474ec1a",
        "colab": {
          "base_uri": "https://localhost:8080/",
          "height": 35
        }
      },
      "source": [
        "import tensorflow as tf\n",
        "tf.__version__"
      ],
      "execution_count": 3,
      "outputs": [
        {
          "output_type": "execute_result",
          "data": {
            "application/vnd.google.colaboratory.intrinsic+json": {
              "type": "string"
            },
            "text/plain": [
              "'2.3.1'"
            ]
          },
          "metadata": {
            "tags": []
          },
          "execution_count": 3
        }
      ]
    },
    {
      "cell_type": "markdown",
      "metadata": {
        "id": "y-wkYH-ehl6F"
      },
      "source": [
        "Kết nối tới google drive"
      ]
    },
    {
      "cell_type": "code",
      "metadata": {
        "id": "bHugC54BhuGJ",
        "outputId": "79896b63-fddc-411e-8e42-3b112d8986a2",
        "colab": {
          "base_uri": "https://localhost:8080/",
          "height": 34
        }
      },
      "source": [
        "from google.colab import drive\n",
        "drive.mount('/content/drive')"
      ],
      "execution_count": 4,
      "outputs": [
        {
          "output_type": "stream",
          "text": [
            "Mounted at /content/drive\n"
          ],
          "name": "stdout"
        }
      ]
    },
    {
      "cell_type": "markdown",
      "metadata": {
        "id": "Q4-kzOO6ijpA"
      },
      "source": [
        "Trước khi thực hiện train cần chạy một số modules này trước phục vục cho việc code"
      ]
    },
    {
      "cell_type": "code",
      "metadata": {
        "id": "r__ZlzkQi4IT"
      },
      "source": [
        "import os\n",
        "import cv2\n",
        "import sys\n",
        "import zipfile\n",
        "\n",
        "def fun_print(name: str, value) -> None:\n",
        "    print('@ Deep Learning> ', name)\n",
        "    print(value)\n",
        "\n",
        "\n",
        "def fun_getFileNames(path: str) -> list:\n",
        "    return os.listdir(path)\n",
        "\n",
        "\n",
        "def fun_showVideoPath(path: str, delay: int = 25) -> None:\n",
        "    cap = cv2.VideoCapture(path)\n",
        "    isContinue, frame = cap.read()\n",
        "    while True:\n",
        "        if not isContinue:\n",
        "            break\n",
        "        cv2.imshow('frame', frame)\n",
        "        if cv2.waitKey(delay=delay) & 0xFF == ord('q'):\n",
        "            break\n",
        "        isContinue, frame = cap.read()\n",
        "\n",
        "    cap.release()\n",
        "    cv2.destroyAllWindows()\n",
        "\n",
        "\n",
        "def fun_getFramesOfVideo(path: str, count: int = 20) -> list:\n",
        "    cap = cv2.VideoCapture(path)\n",
        "    isContinue, frame = cap.read()\n",
        "    imgs = []\n",
        "    while count > 0:\n",
        "        if not isContinue:\n",
        "            break\n",
        "        imgs.append(frame)\n",
        "        isContinue, frame = cap.read()\n",
        "        count -= 1\n",
        "    cap.release()\n",
        "    cv2.destroyAllWindows()\n",
        "    return imgs\n",
        "\n",
        "def fun_getFramesOfVideo_ALL(path: str) -> list:\n",
        "    cap = cv2.VideoCapture(path)\n",
        "    isContinue, frame = cap.read()\n",
        "    imgs = []\n",
        "    while True:\n",
        "        if not isContinue:\n",
        "            break\n",
        "        imgs.append(frame)\n",
        "        isContinue, frame = cap.read()\n",
        "    cap.release()\n",
        "    cv2.destroyAllWindows()\n",
        "    return imgs\n",
        "\n",
        "\n",
        "def fun_showVideoFrames(frames: list, delay: int = 25) -> None:\n",
        "    for frame in frames:\n",
        "        cv2.imshow('frame', frame)\n",
        "        if cv2.waitKey(delay=delay) & 0xFF == ord('q'):\n",
        "            break\n",
        "\n",
        "\n",
        "def fun_showVideo(source, delay: int = 25) -> None:\n",
        "    if isinstance(source, str):\n",
        "        fun_showVideoPath(path=source, delay=delay)\n",
        "    else:\n",
        "        fun_showVideoFrames(frames=source, delay=delay)\n",
        "\n",
        "\n",
        "def fun_resizeFrames(frames: list, size: tuple = (224, 224)) -> list:\n",
        "    imgs = []\n",
        "    count = 0\n",
        "    for frame in frames:\n",
        "        try:\n",
        "          fr = cv2.resize(frame, dsize=size)\n",
        "        except:\n",
        "          print('\\r!Error To Resize of {0}'.format(count))\n",
        "        imgs.append(fr)\n",
        "        count += 1\n",
        "    cv2.destroyAllWindows()\n",
        "    return imgs\n",
        "\n",
        "\n",
        "def fun_saveFramesToVideo(frames: list, path: str, fps: int = 25) -> bool:\n",
        "    try:\n",
        "        height, width, layer = frames[0].shape\n",
        "        wr = cv2.VideoWriter(path, cv2.VideoWriter_fourcc(*'MJPG'), fps, (width, height))\n",
        "        for frame in frames:\n",
        "            wr.write(frame)\n",
        "        wr.release()\n",
        "        cv2.destroyAllWindows()\n",
        "        return True\n",
        "\n",
        "    except:\n",
        "        fun_print(name='Write Video: '+path, value='ERROR TO WRITE VIDEO')\n",
        "        return False\n",
        "\n",
        "def fun_getSizeOfFrame(frame) -> tuple:\n",
        "    height, width, layer = frame.shape\n",
        "    return (width, height)\n",
        "\n",
        "# version 1\n",
        "def fun_outListVideoWithNumFrame(pathVideoLoad: str, dirToSave: str, preFixName: str, videoNameIndex: int= None, countFrame: int = 40, fps: int = 25, isShowCalculating: bool = False) -> int:\n",
        "    if videoNameIndex is None:\n",
        "        fun_print('fun_outListVideoWithNumFrame', 'Please input para: videoNameIndex')\n",
        "        return 0\n",
        "\n",
        "    all = 0\n",
        "    countWriten = 0\n",
        "    if isShowCalculating:\n",
        "        fun_print('Calculator Video Out Frame', 'calculating...')\n",
        "        all = fun_getFramesOfVideo_ALL(pathVideoLoad)\n",
        "        all = len(all) // countFrame\n",
        "\n",
        "    cap = cv2.VideoCapture(pathVideoLoad)\n",
        "    isContinue, frame = cap.read()\n",
        "    count = videoNameIndex\n",
        "    while True:\n",
        "        if not isContinue:\n",
        "            break\n",
        "        nameFile = dirToSave + preFixName + '_out_'+str(count)+'.avi'\n",
        "        cFrame = countFrame\n",
        "        frames = []\n",
        "\n",
        "        # get list frame\n",
        "        while cFrame > 0:\n",
        "            frames.append(frame)\n",
        "            isContinue, frame = cap.read()\n",
        "            if not isContinue:\n",
        "                break\n",
        "            cFrame -= 1\n",
        "\n",
        "        # check video enough frameCount frame ?\n",
        "        if len(frames) != countFrame:\n",
        "            break\n",
        "\n",
        "        # write list frame\n",
        "        res = fun_saveFramesToVideo(frames=frames, path=nameFile, fps=fps)\n",
        "        countWriten += 1\n",
        "        if res:\n",
        "            if isShowCalculating:\n",
        "                percent = countWriten / all\n",
        "                mess = '\\r - Writen: {0} -> Complete: {1:.1%}'.format(nameFile, percent)\n",
        "                sys.stdout.write(mess)\n",
        "                sys.stdout.flush()\n",
        "            else:\n",
        "                mess = '\\r - Writen: {0} -> Complete'.format(nameFile)\n",
        "                sys.stdout.write(mess)\n",
        "                sys.stdout.flush()\n",
        "\n",
        "        # done\n",
        "        count += 1\n",
        "\n",
        "    cap.release()\n",
        "    cv2.destroyAllWindows()\n",
        "    return count\n",
        "\n",
        "def fun_extractZipFile(pathFileZip: str, pathToSave: str) -> None:\n",
        "    if not os.path.exists(pathToSave):\n",
        "        os.makedirs(pathToSave)\n",
        "    fun_print(name='Extract All ' + pathFileZip, value='Extracting...')\n",
        "    if (pathFileZip.endswith('.zip')):\n",
        "        zipfile.ZipFile(file=pathFileZip, mode='r').extractall(path=pathToSave)\n",
        "        print('Extract Done')\n",
        "    else:\n",
        "        print('Please Input zip file')\n",
        "\n",
        "def fun_print_process(count: int, max: int, mess: str = 'Processing: ') -> None:\n",
        "  process = count / max\n",
        "  mess = '\\r - ' +  mess + ' [{0:.1%}]'.format(process)\n",
        "  sys.stdout.write(mess)\n",
        "  sys.stdout.flush()"
      ],
      "execution_count": 5,
      "outputs": []
    },
    {
      "cell_type": "markdown",
      "metadata": {
        "id": "7GLCrM8PjZFz"
      },
      "source": [
        "Mình cần định nghĩa một số Const để dể dàng thực hiện khi mỗi lần Retrain. TẠI ĐÂY"
      ]
    },
    {
      "cell_type": "code",
      "metadata": {
        "id": "SWhrNy6XjlmX"
      },
      "source": [
        "DIR_ROOT = '/content/drive/My Drive/DeepLearning/Data_PhanLoaiBaoLuc'\n",
        "DIR_INPUT_TRAIN = DIR_ROOT + '/InputTrain_28_10_2020'\n",
        "DIR_MODEL_LSTM = DIR_ROOT + '/Models/LSTM_Train_28_10_2020.h5'\n",
        "DIR_MODEL_CNN = DIR_ROOT + '/Models/VGG16_Model.h5'\n",
        "SIZE = (224, 224)\n",
        "NUM_FRAME_INPUT_LSTM = 20\n",
        "TRANSFER_VALUE_SIZE = 4096\n",
        "RNN_SIZE = 512\n",
        "EPOCH = 100\n",
        "BATCH_SIZE = 150\n",
        "\n",
        "VIDEO_NAMES = [\n",
        "  'bc',\n",
        "  'cq',\n",
        "  'da',\n",
        "  'dn',\n",
        "  'kc',\n",
        "  'lg',\n",
        "  'lk',\n",
        "  'na',\n",
        "  'nc',\n",
        "  'ne',\n",
        "  'nt',\n",
        "  'om',\n",
        "  'tc',\n",
        "  'vd',\n",
        "  'vk',\n",
        "  'xd',\n",
        "  'xt'\n",
        "]\n",
        "\n",
        "VIDEO_LABELS = [\n",
        "  [1, 0, 0, 0, 0, 0, 0, 0, 0, 0, 0, 0, 0, 0, 0, 0, 0],\n",
        "  [0, 1, 0, 0, 0, 0, 0, 0, 0, 0, 0, 0, 0, 0, 0, 0, 0],\n",
        "  [0, 0, 1, 0, 0, 0, 0, 0, 0, 0, 0, 0, 0, 0, 0, 0, 0],\n",
        "  [0, 0, 0, 1, 0, 0, 0, 0, 0, 0, 0, 0, 0, 0, 0, 0, 0],\n",
        "  [0, 0, 0, 0, 1, 0, 0, 0, 0, 0, 0, 0, 0, 0, 0, 0, 0],\n",
        "  [0, 0, 0, 0, 0, 1, 0, 0, 0, 0, 0, 0, 0, 0, 0, 0, 0],\n",
        "  [0, 0, 0, 0, 0, 0, 1, 0, 0, 0, 0, 0, 0, 0, 0, 0, 0],\n",
        "  [0, 0, 0, 0, 0, 0, 0, 1, 0, 0, 0, 0, 0, 0, 0, 0, 0],\n",
        "  [0, 0, 0, 0, 0, 0, 0, 0, 1, 0, 0, 0, 0, 0, 0, 0, 0],\n",
        "  [0, 0, 0, 0, 0, 0, 0, 0, 0, 1, 0, 0, 0, 0, 0, 0, 0],\n",
        "  [0, 0, 0, 0, 0, 0, 0, 0, 0, 0, 1, 0, 0, 0, 0, 0, 0],\n",
        "  [0, 0, 0, 0, 0, 0, 0, 0, 0, 0, 0, 1, 0, 0, 0, 0, 0],\n",
        "  [0, 0, 0, 0, 0, 0, 0, 0, 0, 0, 0, 0, 1, 0, 0, 0, 0],\n",
        "  [0, 0, 0, 0, 0, 0, 0, 0, 0, 0, 0, 0, 0, 1, 0, 0, 0],\n",
        "  [0, 0, 0, 0, 0, 0, 0, 0, 0, 0, 0, 0, 0, 0, 1, 0, 0],\n",
        "  [0, 0, 0, 0, 0, 0, 0, 0, 0, 0, 0, 0, 0, 0, 0, 1, 0],\n",
        "  [0, 0, 0, 0, 0, 0, 0, 0, 0, 0, 0, 0, 0, 0, 0, 0, 1],\n",
        "]\n",
        "\n",
        "NUM_CLASSIFY = len(VIDEO_NAMES)"
      ],
      "execution_count": 44,
      "outputs": []
    },
    {
      "cell_type": "markdown",
      "metadata": {
        "id": "cJGGZhxl4usK"
      },
      "source": [
        "Mình cần phải có dữ liệu để train, dữ liệu thường ở dưới máy local, phải tải lên google drive để dùng được cho colab,\n",
        "dữ liệu gồm nhiều files khi tải lên google drive sẽ bất tiện. Mình cần nén nó lại thành file [*.zip] rồi tải lên \n",
        "google drive. Xong sau đó dùng code này để giải nén zip ra thì mình sẽ có dữ liệu,\n",
        "Sau khi mình tải tệp zip lên google drive thì bắt đầu công việc giải nén ra một thư để thực hiện việt input train"
      ]
    },
    {
      "cell_type": "code",
      "metadata": {
        "id": "6q6kApp3jOTa",
        "outputId": "29f0780d-df53-4745-8cf6-906e68cde45c",
        "colab": {
          "base_uri": "https://localhost:8080/",
          "height": 68
        }
      },
      "source": [
        "fun_extractZipFile(pathFileZip= DIR_ROOT + '/InputsZip/Train_28_10_2020.zip', pathToSave= DIR_INPUT_TRAIN)"
      ],
      "execution_count": 9,
      "outputs": [
        {
          "output_type": "stream",
          "text": [
            "@ Deep Learning>  Extract All /content/drive/My Drive/DeepLearning/Data_PhanLoaiBaoLuc/InputsZip/Train_28_10_2020.zip\n",
            "Extracting...\n",
            "Extract Done\n"
          ],
          "name": "stdout"
        }
      ]
    },
    {
      "cell_type": "markdown",
      "metadata": {
        "id": "zKrg2W2Jk3k0"
      },
      "source": [
        "Bây giờ để đảm bảo rằng tất cả các file của chúng ta được giải nén thành công vào trong thư mục mình mong muốn. Mình cần thực hiện dòng lệnh này để xem."
      ]
    },
    {
      "cell_type": "code",
      "metadata": {
        "id": "YrA52CSzlISt",
        "outputId": "6187b3b5-94e8-4fd1-c506-91b61e4c3d2f",
        "colab": {
          "base_uri": "https://localhost:8080/",
          "height": 51
        }
      },
      "source": [
        "fileNames = fun_getFileNames(path= DIR_INPUT_TRAIN)\n",
        "fun_print(name= 'Xem thư mục bao nhiêu file?: ' + DIR_INPUT_TRAIN, value= 'Có: {0} Files'.format(len(fileNames)))"
      ],
      "execution_count": 18,
      "outputs": [
        {
          "output_type": "stream",
          "text": [
            "@ Deep Learning>  Xem thư mục bao nhiêu file?: /content/drive/My Drive/DeepLearning/Data_PhanLoaiBaoLuc/InputTrain_28_10_2020\n",
            "Có: 17 Files\n"
          ],
          "name": "stdout"
        }
      ]
    },
    {
      "cell_type": "markdown",
      "metadata": {
        "id": "SRNCuJm7lwmb"
      },
      "source": [
        "Dữ liệu của mình đã có. Bây giờ bắt đầu giai đoạn tiếp theo. Load model VGG16"
      ]
    },
    {
      "cell_type": "markdown",
      "metadata": {
        "id": "kFpe8z7y9CJ5"
      },
      "source": [
        "Đầu là khu vực dành cho import thư viện"
      ]
    },
    {
      "cell_type": "code",
      "metadata": {
        "id": "FvSJB1L29Iit"
      },
      "source": [
        "from keras.applications import VGG16\n",
        "from keras.models import Model, Sequential, load_model\n",
        "import numpy as np\n",
        "from random import shuffle\n",
        "from keras.layers import LSTM, Dense, Activation"
      ],
      "execution_count": 11,
      "outputs": []
    },
    {
      "cell_type": "code",
      "metadata": {
        "id": "5Rf_jlKT4zeC",
        "outputId": "6ba51e30-034b-40ce-c8e9-076892a4040c",
        "colab": {
          "base_uri": "https://localhost:8080/",
          "height": 935
        }
      },
      "source": [
        "#modelCNN = VGG16(include_top= True, weights= 'imagenet')\n",
        "modelCNN = load_model(DIR_MODEL_CNN, compile= False)\n",
        "modelCNN.summary()"
      ],
      "execution_count": 14,
      "outputs": [
        {
          "output_type": "stream",
          "text": [
            "Model: \"vgg16\"\n",
            "_________________________________________________________________\n",
            "Layer (type)                 Output Shape              Param #   \n",
            "=================================================================\n",
            "input_2 (InputLayer)         [(None, 224, 224, 3)]     0         \n",
            "_________________________________________________________________\n",
            "block1_conv1 (Conv2D)        (None, 224, 224, 64)      1792      \n",
            "_________________________________________________________________\n",
            "block1_conv2 (Conv2D)        (None, 224, 224, 64)      36928     \n",
            "_________________________________________________________________\n",
            "block1_pool (MaxPooling2D)   (None, 112, 112, 64)      0         \n",
            "_________________________________________________________________\n",
            "block2_conv1 (Conv2D)        (None, 112, 112, 128)     73856     \n",
            "_________________________________________________________________\n",
            "block2_conv2 (Conv2D)        (None, 112, 112, 128)     147584    \n",
            "_________________________________________________________________\n",
            "block2_pool (MaxPooling2D)   (None, 56, 56, 128)       0         \n",
            "_________________________________________________________________\n",
            "block3_conv1 (Conv2D)        (None, 56, 56, 256)       295168    \n",
            "_________________________________________________________________\n",
            "block3_conv2 (Conv2D)        (None, 56, 56, 256)       590080    \n",
            "_________________________________________________________________\n",
            "block3_conv3 (Conv2D)        (None, 56, 56, 256)       590080    \n",
            "_________________________________________________________________\n",
            "block3_pool (MaxPooling2D)   (None, 28, 28, 256)       0         \n",
            "_________________________________________________________________\n",
            "block4_conv1 (Conv2D)        (None, 28, 28, 512)       1180160   \n",
            "_________________________________________________________________\n",
            "block4_conv2 (Conv2D)        (None, 28, 28, 512)       2359808   \n",
            "_________________________________________________________________\n",
            "block4_conv3 (Conv2D)        (None, 28, 28, 512)       2359808   \n",
            "_________________________________________________________________\n",
            "block4_pool (MaxPooling2D)   (None, 14, 14, 512)       0         \n",
            "_________________________________________________________________\n",
            "block5_conv1 (Conv2D)        (None, 14, 14, 512)       2359808   \n",
            "_________________________________________________________________\n",
            "block5_conv2 (Conv2D)        (None, 14, 14, 512)       2359808   \n",
            "_________________________________________________________________\n",
            "block5_conv3 (Conv2D)        (None, 14, 14, 512)       2359808   \n",
            "_________________________________________________________________\n",
            "block5_pool (MaxPooling2D)   (None, 7, 7, 512)         0         \n",
            "_________________________________________________________________\n",
            "flatten (Flatten)            (None, 25088)             0         \n",
            "_________________________________________________________________\n",
            "fc1 (Dense)                  (None, 4096)              102764544 \n",
            "_________________________________________________________________\n",
            "fc2 (Dense)                  (None, 4096)              16781312  \n",
            "_________________________________________________________________\n",
            "predictions (Dense)          (None, 1000)              4097000   \n",
            "=================================================================\n",
            "Total params: 138,357,544\n",
            "Trainable params: 138,357,544\n",
            "Non-trainable params: 0\n",
            "_________________________________________________________________\n"
          ],
          "name": "stdout"
        }
      ]
    },
    {
      "cell_type": "markdown",
      "metadata": {
        "id": "bBfEF8Fg5nWP"
      },
      "source": [
        "Mình sẽ thử dùng modelCNN để predict 20 frame ảnh xem sao."
      ]
    },
    {
      "cell_type": "code",
      "metadata": {
        "id": "5DTnARS55u57",
        "outputId": "519528d3-71bf-4ec2-e5fc-6260cefab8ff",
        "colab": {
          "base_uri": "https://localhost:8080/",
          "height": 170
        }
      },
      "source": [
        "frames = fun_getFramesOfVideo(path= DIR_INPUT_TRAIN + '/bc/bc1_111_001.avi', count=20)\n",
        "\n",
        "fun_print('count frame: ', value=len(frames))\n",
        "\n",
        "transferLayer = modelCNN.get_layer(name='fc2')\n",
        "\n",
        "imgModelTransfer = Model(inputs= modelCNN.input, outputs= transferLayer.output)\n",
        "\n",
        "frames = fun_resizeFrames(frames= frames, size=SIZE)\n",
        "\n",
        "frames = np.array(frames)\n",
        "frames = (frames / 255.).astype(np.float16)\n",
        "\n",
        "transfer = imgModelTransfer.predict(frames)\n",
        "print(transfer)"
      ],
      "execution_count": 19,
      "outputs": [
        {
          "output_type": "stream",
          "text": [
            "@ Deep Learning>  count frame: \n",
            "20\n",
            "[[0.         0.         1.5306206  ... 0.         0.         0.74161446]\n",
            " [0.         0.         1.5450199  ... 0.         0.         0.8388475 ]\n",
            " [0.         0.         1.6016072  ... 0.         0.         0.8584479 ]\n",
            " ...\n",
            " [0.         0.         1.6011251  ... 0.         0.         0.85297966]\n",
            " [0.         0.         1.6245921  ... 0.         0.         0.87145877]\n",
            " [0.         0.         1.7206725  ... 0.         0.         0.9652164 ]]\n"
          ],
          "name": "stdout"
        }
      ]
    },
    {
      "cell_type": "markdown",
      "metadata": {
        "id": "TTPtd1xgEOlv"
      },
      "source": [
        "Bây giờ thực thực hiện định nghĩa một hàm. Nhận vào danh sách các video train. Trả về mảng tên video và mảng labels. Phần code này là dùng cho tất cả video nằm trong 1 thư mục"
      ]
    },
    {
      "cell_type": "code",
      "metadata": {
        "id": "3D7TYOJW-NaR"
      },
      "source": [
        "def getIndexOF_VIDEO_NAMES(fileName: str) -> int:\n",
        "  index = 0\n",
        "  for txt in VIDEO_NAMES:\n",
        "    if fileName.find(txt) != -1:\n",
        "      return index\n",
        "    index += 1\n",
        "  return -1\n",
        "\n",
        "def getVideoLabelNames(path: str):\n",
        "  names = []\n",
        "  labels = []\n",
        "  fileNames = fun_getFileNames(path= path)\n",
        "  vName = ''\n",
        "  for file in fileNames:\n",
        "    lableIndex = getIndexOF_VIDEO_NAMES(fileName= file)\n",
        "    if lableIndex == -1:\n",
        "      continue\n",
        "    names.append(file)\n",
        "    labels.append(VIDEO_LABELS[lableIndex])\n",
        "  \n",
        "  c = list(zip(names, labels))\n",
        "  shuffle(c)\n",
        "\n",
        "  names, labels = zip(*c)\n",
        "  return names, labels"
      ],
      "execution_count": null,
      "outputs": []
    },
    {
      "cell_type": "markdown",
      "metadata": {
        "id": "LzcVyBFoY-8r"
      },
      "source": [
        "Phần code này cũng là để load video và trả về tập names và labels. Nhưng dùng cho phần video nằm trong từng thư mục."
      ]
    },
    {
      "cell_type": "code",
      "metadata": {
        "id": "2g_LU7lsZKSH"
      },
      "source": [
        "def getVideoLabelNames_EachFolder(path: str):\n",
        "  names = []\n",
        "  labels = []\n",
        "  \n",
        "  for fol in VIDEO_NAMES:\n",
        "    folder = path + '/' + fol\n",
        "    fileNames = fun_getFileNames(path= folder)\n",
        "    index = VIDEO_NAMES.index(fol)\n",
        "    for file in fileNames:\n",
        "      names.append('/' + fol + '/' + file)\n",
        "      labels.append(VIDEO_LABELS[index])\n",
        "  \n",
        "  c = list(zip(names, labels))\n",
        "  shuffle(c)\n",
        "\n",
        "  names, labels = zip(*c)\n",
        "  return names, labels"
      ],
      "execution_count": 51,
      "outputs": []
    },
    {
      "cell_type": "markdown",
      "metadata": {
        "id": "N13DBUTGGoEB"
      },
      "source": [
        "Bây giờ test thử hàm getVideoLabelNames(path: str): xem sao"
      ]
    },
    {
      "cell_type": "code",
      "metadata": {
        "id": "IxG4w-bFGtwd",
        "outputId": "161bcd98-0aa4-4df9-f879-2fd38b76e3b1",
        "colab": {
          "base_uri": "https://localhost:8080/",
          "height": 85
        }
      },
      "source": [
        "names, labels = getVideoLabelNames_EachFolder(path= DIR_INPUT_TRAIN)\n",
        "\n",
        "fun_print('Names', names[0:3])\n",
        "fun_print('labels', labels[0:3])"
      ],
      "execution_count": 52,
      "outputs": [
        {
          "output_type": "stream",
          "text": [
            "@ Deep Learning>  Names\n",
            "('/dn/dn8_030_002+10F.avi', '/om/om1_123_002.avi', '/vd/vd3_055_018.avi')\n",
            "@ Deep Learning>  labels\n",
            "([0, 0, 0, 1, 0, 0, 0, 0, 0, 0, 0, 0, 0, 0, 0, 0, 0], [0, 0, 0, 0, 0, 0, 0, 0, 0, 0, 0, 1, 0, 0, 0, 0, 0], [0, 0, 0, 0, 0, 0, 0, 0, 0, 0, 0, 0, 0, 1, 0, 0, 0])\n"
          ],
          "name": "stdout"
        }
      ]
    },
    {
      "cell_type": "markdown",
      "metadata": {
        "id": "PUrNfDlQLqbx"
      },
      "source": [
        "Bây giờ mình sẽ viết một hàm nhận vào một video. Hàm này sẽ lấy 20 frame hình cho vào VGG16 để lấy mẫu dự đoán"
      ]
    },
    {
      "cell_type": "code",
      "metadata": {
        "id": "Xw3yuc_kL3dk"
      },
      "source": [
        "def getTransferValue(pathVideoOrListFrame):\n",
        "  if isinstance(pathVideoOrListFrame, str):\n",
        "    frames = fun_getFramesOfVideo(path=pathVideoOrListFrame, count=NUM_FRAME_INPUT_LSTM)\n",
        "  else:\n",
        "    frames = pathVideoOrListFrame\n",
        "    \n",
        "  frames = fun_resizeFrames(frames= frames, size=SIZE)\n",
        "\n",
        "  frames = np.array(frames)\n",
        "  frames = (frames / 255.).astype(np.float16)\n",
        "\n",
        "  transfer = imgModelTransfer.predict(frames)\n",
        "  return transfer"
      ],
      "execution_count": 26,
      "outputs": []
    },
    {
      "cell_type": "markdown",
      "metadata": {
        "id": "XyMWw6ewNyh6"
      },
      "source": [
        "Cùng test thử getTransferValue(pathVideo: str): xem nào!"
      ]
    },
    {
      "cell_type": "code",
      "metadata": {
        "id": "Hc3OfEEBN3CM",
        "outputId": "a6dda4c3-9e70-40e5-c799-114f8453b14d",
        "colab": {
          "base_uri": "https://localhost:8080/",
          "height": 136
        }
      },
      "source": [
        "transfer = getTransferValue(pathVideoOrListFrame= DIR_INPUT_TRAIN + '/bc/bc1_111_001.avi')\n",
        "print(transfer)"
      ],
      "execution_count": 28,
      "outputs": [
        {
          "output_type": "stream",
          "text": [
            "[[0.         0.         1.5306206  ... 0.         0.         0.74161446]\n",
            " [0.         0.         1.5450199  ... 0.         0.         0.8388475 ]\n",
            " [0.         0.         1.6016072  ... 0.         0.         0.8584479 ]\n",
            " ...\n",
            " [0.         0.         1.6011251  ... 0.         0.         0.85297966]\n",
            " [0.         0.         1.6245921  ... 0.         0.         0.87145877]\n",
            " [0.         0.         1.7206725  ... 0.         0.         0.9652164 ]]\n"
          ],
          "name": "stdout"
        }
      ]
    },
    {
      "cell_type": "markdown",
      "metadata": {
        "id": "4SdqDS-HOv-_"
      },
      "source": [
        "Bây giờ mình sẽ định nghĩa một hàm nhận vào một nhãn của video (label) trả về một dạng ones hot"
      ]
    },
    {
      "cell_type": "code",
      "metadata": {
        "id": "swW0R-tRP0YR"
      },
      "source": [
        "def onesHotLabel(label: list):\n",
        "  _ones = np.ones([NUM_FRAME_INPUT_LSTM, NUM_CLASSIFY])\n",
        "  _onesHot = label * _ones\n",
        "  return np.array(_onesHot)"
      ],
      "execution_count": 29,
      "outputs": []
    },
    {
      "cell_type": "markdown",
      "metadata": {
        "id": "ahzZ6Id1RUYB"
      },
      "source": [
        "Test thử hàm oneHotLabel(label: list): xem nào!\n",
        "\n"
      ]
    },
    {
      "cell_type": "code",
      "metadata": {
        "id": "E7LNfIMlRfQs",
        "outputId": "0b2c46da-8109-4bc7-f808-852d68dffb42",
        "colab": {
          "base_uri": "https://localhost:8080/",
          "height": 374
        }
      },
      "source": [
        "_oneHot = onesHotLabel([1, 0, 0, 0, 0, 0, 0, 0, 0, 0, 0, 0, 0, 0, 0, 0, 0])\n",
        "fun_print(name='oneHost', value= _oneHot)"
      ],
      "execution_count": 31,
      "outputs": [
        {
          "output_type": "stream",
          "text": [
            "@ Deep Learning>  oneHost\n",
            "[[1. 0. 0. 0. 0. 0. 0. 0. 0. 0. 0. 0. 0. 0. 0. 0. 0.]\n",
            " [1. 0. 0. 0. 0. 0. 0. 0. 0. 0. 0. 0. 0. 0. 0. 0. 0.]\n",
            " [1. 0. 0. 0. 0. 0. 0. 0. 0. 0. 0. 0. 0. 0. 0. 0. 0.]\n",
            " [1. 0. 0. 0. 0. 0. 0. 0. 0. 0. 0. 0. 0. 0. 0. 0. 0.]\n",
            " [1. 0. 0. 0. 0. 0. 0. 0. 0. 0. 0. 0. 0. 0. 0. 0. 0.]\n",
            " [1. 0. 0. 0. 0. 0. 0. 0. 0. 0. 0. 0. 0. 0. 0. 0. 0.]\n",
            " [1. 0. 0. 0. 0. 0. 0. 0. 0. 0. 0. 0. 0. 0. 0. 0. 0.]\n",
            " [1. 0. 0. 0. 0. 0. 0. 0. 0. 0. 0. 0. 0. 0. 0. 0. 0.]\n",
            " [1. 0. 0. 0. 0. 0. 0. 0. 0. 0. 0. 0. 0. 0. 0. 0. 0.]\n",
            " [1. 0. 0. 0. 0. 0. 0. 0. 0. 0. 0. 0. 0. 0. 0. 0. 0.]\n",
            " [1. 0. 0. 0. 0. 0. 0. 0. 0. 0. 0. 0. 0. 0. 0. 0. 0.]\n",
            " [1. 0. 0. 0. 0. 0. 0. 0. 0. 0. 0. 0. 0. 0. 0. 0. 0.]\n",
            " [1. 0. 0. 0. 0. 0. 0. 0. 0. 0. 0. 0. 0. 0. 0. 0. 0.]\n",
            " [1. 0. 0. 0. 0. 0. 0. 0. 0. 0. 0. 0. 0. 0. 0. 0. 0.]\n",
            " [1. 0. 0. 0. 0. 0. 0. 0. 0. 0. 0. 0. 0. 0. 0. 0. 0.]\n",
            " [1. 0. 0. 0. 0. 0. 0. 0. 0. 0. 0. 0. 0. 0. 0. 0. 0.]\n",
            " [1. 0. 0. 0. 0. 0. 0. 0. 0. 0. 0. 0. 0. 0. 0. 0. 0.]\n",
            " [1. 0. 0. 0. 0. 0. 0. 0. 0. 0. 0. 0. 0. 0. 0. 0. 0.]\n",
            " [1. 0. 0. 0. 0. 0. 0. 0. 0. 0. 0. 0. 0. 0. 0. 0. 0.]\n",
            " [1. 0. 0. 0. 0. 0. 0. 0. 0. 0. 0. 0. 0. 0. 0. 0. 0.]]\n"
          ],
          "name": "stdout"
        }
      ]
    },
    {
      "cell_type": "markdown",
      "metadata": {
        "id": "ifJyW9PUSODC"
      },
      "source": [
        "Từ nãy giờ cũng được nhiều rồi. Để đảm bảo rằng dữ liệu hợp lệ. Bạn hãy test lại một lần nửa xem đã có dữ liệu chưa. Hãy thực hiện các lệnh dưới đây."
      ]
    },
    {
      "cell_type": "code",
      "metadata": {
        "id": "OCLDGBkxSxW7",
        "outputId": "7bc28fc4-fdd0-412b-fbcd-c36293e6d58c",
        "colab": {
          "base_uri": "https://localhost:8080/",
          "height": 632
        }
      },
      "source": [
        "names, labels = getVideoLabelNames_EachFolder(path= DIR_INPUT_TRAIN)\n",
        "\n",
        "fun_print(name= 'Size of List video', value= len(names))\n",
        "fun_print(name= 'Size of List labels', value= len(labels))\n",
        "\n",
        "print('= '*50)\n",
        "\n",
        "print(names[0:5])\n",
        "print(labels[0:5])\n",
        "\n",
        "print('= '*50)\n",
        "\n",
        "print(getTransferValue(DIR_INPUT_TRAIN + names[0]))\n",
        "print(onesHotLabel(labels[0]))"
      ],
      "execution_count": 34,
      "outputs": [
        {
          "output_type": "stream",
          "text": [
            "@ Deep Learning>  Size of List video\n",
            "1255\n",
            "@ Deep Learning>  Size of List labels\n",
            "1255\n",
            "= = = = = = = = = = = = = = = = = = = = = = = = = = = = = = = = = = = = = = = = = = = = = = = = = = \n",
            "('/da/da5_107_001.avi', '/dn/dn10_143_007.avi', '/om/om10_134_005.avi', '/vd/vd3_055_017.avi', '/vk/vk1_125_002.avi')\n",
            "([0, 0, 1, 0, 0, 0, 0, 0, 0, 0, 0, 0, 0, 0, 0, 0, 0], [0, 0, 0, 1, 0, 0, 0, 0, 0, 0, 0, 0, 0, 0, 0, 0, 0], [0, 0, 0, 0, 0, 0, 0, 0, 0, 0, 0, 1, 0, 0, 0, 0, 0], [0, 0, 0, 0, 0, 0, 0, 0, 0, 0, 0, 0, 0, 1, 0, 0, 0], [0, 0, 0, 0, 0, 0, 0, 0, 0, 0, 0, 0, 0, 0, 1, 0, 0])\n",
            "= = = = = = = = = = = = = = = = = = = = = = = = = = = = = = = = = = = = = = = = = = = = = = = = = = \n",
            "[[0.         0.         1.294548   ... 0.         0.         0.7627448 ]\n",
            " [0.         0.         1.2842535  ... 0.         0.         0.7733822 ]\n",
            " [0.         0.         1.3218735  ... 0.         0.         0.76401573]\n",
            " ...\n",
            " [0.         0.         1.3335023  ... 0.         0.         0.85251784]\n",
            " [0.         0.         1.3006797  ... 0.         0.         0.81426716]\n",
            " [0.         0.         1.2863977  ... 0.         0.         0.7678759 ]]\n",
            "[[0. 0. 1. 0. 0. 0. 0. 0. 0. 0. 0. 0. 0. 0. 0. 0. 0.]\n",
            " [0. 0. 1. 0. 0. 0. 0. 0. 0. 0. 0. 0. 0. 0. 0. 0. 0.]\n",
            " [0. 0. 1. 0. 0. 0. 0. 0. 0. 0. 0. 0. 0. 0. 0. 0. 0.]\n",
            " [0. 0. 1. 0. 0. 0. 0. 0. 0. 0. 0. 0. 0. 0. 0. 0. 0.]\n",
            " [0. 0. 1. 0. 0. 0. 0. 0. 0. 0. 0. 0. 0. 0. 0. 0. 0.]\n",
            " [0. 0. 1. 0. 0. 0. 0. 0. 0. 0. 0. 0. 0. 0. 0. 0. 0.]\n",
            " [0. 0. 1. 0. 0. 0. 0. 0. 0. 0. 0. 0. 0. 0. 0. 0. 0.]\n",
            " [0. 0. 1. 0. 0. 0. 0. 0. 0. 0. 0. 0. 0. 0. 0. 0. 0.]\n",
            " [0. 0. 1. 0. 0. 0. 0. 0. 0. 0. 0. 0. 0. 0. 0. 0. 0.]\n",
            " [0. 0. 1. 0. 0. 0. 0. 0. 0. 0. 0. 0. 0. 0. 0. 0. 0.]\n",
            " [0. 0. 1. 0. 0. 0. 0. 0. 0. 0. 0. 0. 0. 0. 0. 0. 0.]\n",
            " [0. 0. 1. 0. 0. 0. 0. 0. 0. 0. 0. 0. 0. 0. 0. 0. 0.]\n",
            " [0. 0. 1. 0. 0. 0. 0. 0. 0. 0. 0. 0. 0. 0. 0. 0. 0.]\n",
            " [0. 0. 1. 0. 0. 0. 0. 0. 0. 0. 0. 0. 0. 0. 0. 0. 0.]\n",
            " [0. 0. 1. 0. 0. 0. 0. 0. 0. 0. 0. 0. 0. 0. 0. 0. 0.]\n",
            " [0. 0. 1. 0. 0. 0. 0. 0. 0. 0. 0. 0. 0. 0. 0. 0. 0.]\n",
            " [0. 0. 1. 0. 0. 0. 0. 0. 0. 0. 0. 0. 0. 0. 0. 0. 0.]\n",
            " [0. 0. 1. 0. 0. 0. 0. 0. 0. 0. 0. 0. 0. 0. 0. 0. 0.]\n",
            " [0. 0. 1. 0. 0. 0. 0. 0. 0. 0. 0. 0. 0. 0. 0. 0. 0.]\n",
            " [0. 0. 1. 0. 0. 0. 0. 0. 0. 0. 0. 0. 0. 0. 0. 0. 0.]]\n"
          ],
          "name": "stdout"
        }
      ]
    },
    {
      "cell_type": "markdown",
      "metadata": {
        "id": "ttoziX8eaHsA"
      },
      "source": [
        "Nếu mọi thứ đã Ok bây giờ mình sẽ viết một hàm nhận vào số lượng video muốn train. Trả về 2 danh sách:\n",
        "- TranSet: tập dữ liệu train\n",
        "- LabelSet: tập dữ liệu gán nhãn cho mỗi tập trong trainSet.\n",
        "\n",
        "Nếu mọi thứ thuận lợi thì nó là tiền đề để bắt đầu huấn luyện LSTM."
      ]
    },
    {
      "cell_type": "code",
      "metadata": {
        "id": "ADNuptEtaukm"
      },
      "source": [
        "def getTrainSet_LabelSet(numItem: int):\n",
        "  count = 0\n",
        "  trainSet = []\n",
        "  labelSet = []\n",
        "  while count < numItem:\n",
        "    itemTrain = getTransferValue(pathVideoOrListFrame= DIR_INPUT_TRAIN + names[count])\n",
        "    itemLable = onesHotLabel(label= labels[count])\n",
        "\n",
        "    trainSet.append(itemTrain)\n",
        "    labelSet.append(itemLable[0])\n",
        "\n",
        "    fun_print_process(count= count, max= numItem)\n",
        "\n",
        "    count += 1\n",
        "  \n",
        "  return trainSet, labelSet"
      ],
      "execution_count": 35,
      "outputs": []
    },
    {
      "cell_type": "markdown",
      "metadata": {
        "id": "OF_PS6WsdtD4"
      },
      "source": [
        "Cùng Test Thử getTrainSet_LabelSet(numItem: int): xem nào!"
      ]
    },
    {
      "cell_type": "code",
      "metadata": {
        "id": "eTmpsgG3dzBI",
        "outputId": "6759726b-0556-4dcc-d9ba-1899ce4c12ec",
        "colab": {
          "base_uri": "https://localhost:8080/",
          "height": 34
        }
      },
      "source": [
        "trainSet, labelSet = getTrainSet_LabelSet(numItem= len(names))"
      ],
      "execution_count": 36,
      "outputs": [
        {
          "output_type": "stream",
          "text": [
            " - Processing:  [99.9%]"
          ],
          "name": "stdout"
        }
      ]
    },
    {
      "cell_type": "code",
      "metadata": {
        "id": "jh5I3f2Vq_ki",
        "outputId": "3ef4b148-a35b-45c2-eba7-6c5b9b2c3545",
        "colab": {
          "base_uri": "https://localhost:8080/",
          "height": 68
        }
      },
      "source": [
        "print(len(trainSet))\n",
        "print(len(trainSet[0]))\n",
        "print(len(trainSet[0][0]))"
      ],
      "execution_count": 37,
      "outputs": [
        {
          "output_type": "stream",
          "text": [
            "1255\n",
            "20\n",
            "4096\n"
          ],
          "name": "stdout"
        }
      ]
    },
    {
      "cell_type": "code",
      "metadata": {
        "id": "FRYIR16DrFlX",
        "outputId": "838f43cc-8ec5-44bf-e3a7-545c48c74a00",
        "colab": {
          "base_uri": "https://localhost:8080/",
          "height": 68
        }
      },
      "source": [
        "print(len(labelSet))\n",
        "print(labelSet[0])\n",
        "print(labelSet[0][0])"
      ],
      "execution_count": 38,
      "outputs": [
        {
          "output_type": "stream",
          "text": [
            "1255\n",
            "[0. 0. 1. 0. 0. 0. 0. 0. 0. 0. 0. 0. 0. 0. 0. 0. 0.]\n",
            "0.0\n"
          ],
          "name": "stdout"
        }
      ]
    },
    {
      "cell_type": "markdown",
      "metadata": {
        "id": "nUudVjDqmsEK"
      },
      "source": [
        "Hãy viết một hàm trả về cấu trúc model LSTM"
      ]
    },
    {
      "cell_type": "code",
      "metadata": {
        "id": "UB-c0tR-nY-x"
      },
      "source": [
        "def getModelLSTM(rnn_size: int = 512, input_shape: tuple = (20, 4096), num_classify: int = 3):\n",
        "  modelLSTM = Sequential()\n",
        "  modelLSTM.add(LSTM(rnn_size, input_shape= input_shape))\n",
        "  modelLSTM.add(Dense(1024))\n",
        "  modelLSTM.add(Activation('relu'))\n",
        "  modelLSTM.add(Dense(50))\n",
        "  modelLSTM.add(Activation('sigmoid'))\n",
        "  modelLSTM.add(Dense(num_classify))\n",
        "  modelLSTM.add(Activation('softmax'))\n",
        "  modelLSTM.compile(loss='mean_squared_error', optimizer='adam', metrics=['accuracy'])\n",
        "  return modelLSTM"
      ],
      "execution_count": 41,
      "outputs": []
    },
    {
      "cell_type": "code",
      "metadata": {
        "id": "GtWiCQHXvA4K",
        "outputId": "09d521bb-b6a4-4496-92f3-3c358bd0488e",
        "colab": {
          "base_uri": "https://localhost:8080/",
          "height": 391
        }
      },
      "source": [
        "model = getModelLSTM(num_classify= NUM_CLASSIFY)\n",
        "model.summary()"
      ],
      "execution_count": 42,
      "outputs": [
        {
          "output_type": "stream",
          "text": [
            "Model: \"sequential\"\n",
            "_________________________________________________________________\n",
            "Layer (type)                 Output Shape              Param #   \n",
            "=================================================================\n",
            "lstm (LSTM)                  (None, 512)               9439232   \n",
            "_________________________________________________________________\n",
            "dense (Dense)                (None, 1024)              525312    \n",
            "_________________________________________________________________\n",
            "activation (Activation)      (None, 1024)              0         \n",
            "_________________________________________________________________\n",
            "dense_1 (Dense)              (None, 50)                51250     \n",
            "_________________________________________________________________\n",
            "activation_1 (Activation)    (None, 50)                0         \n",
            "_________________________________________________________________\n",
            "dense_2 (Dense)              (None, 17)                867       \n",
            "_________________________________________________________________\n",
            "activation_2 (Activation)    (None, 17)                0         \n",
            "=================================================================\n",
            "Total params: 10,016,661\n",
            "Trainable params: 10,016,661\n",
            "Non-trainable params: 0\n",
            "_________________________________________________________________\n"
          ],
          "name": "stdout"
        }
      ]
    },
    {
      "cell_type": "code",
      "metadata": {
        "id": "FmTSgllhibjU",
        "outputId": "ae74c76a-cb89-47ab-9615-cdd203d98a23",
        "colab": {
          "base_uri": "https://localhost:8080/",
          "height": 1000
        }
      },
      "source": [
        "model.fit(np.array(trainSet), np.array(labelSet), epochs=EPOCH, batch_size=BATCH_SIZE, verbose=2, validation_split= 0.2)\n",
        "\n",
        "model.save(DIR_ROOT + '/Models/LSTM_Train_28_10_2020.h5')\n",
        "\n",
        "fun_print(name= 'LSTM Train', value= 'Finish')"
      ],
      "execution_count": 45,
      "outputs": [
        {
          "output_type": "stream",
          "text": [
            "Epoch 1/100\n",
            "7/7 - 1s - loss: 0.0335 - accuracy: 0.5767 - val_loss: 0.0489 - val_accuracy: 0.3466\n",
            "Epoch 2/100\n",
            "7/7 - 1s - loss: 0.0339 - accuracy: 0.5827 - val_loss: 0.0460 - val_accuracy: 0.4143\n",
            "Epoch 3/100\n",
            "7/7 - 1s - loss: 0.0341 - accuracy: 0.5767 - val_loss: 0.0462 - val_accuracy: 0.4024\n",
            "Epoch 4/100\n",
            "7/7 - 1s - loss: 0.0336 - accuracy: 0.5797 - val_loss: 0.0457 - val_accuracy: 0.4303\n",
            "Epoch 5/100\n",
            "7/7 - 1s - loss: 0.0329 - accuracy: 0.5926 - val_loss: 0.0472 - val_accuracy: 0.3865\n",
            "Epoch 6/100\n",
            "7/7 - 1s - loss: 0.0328 - accuracy: 0.5906 - val_loss: 0.0457 - val_accuracy: 0.4382\n",
            "Epoch 7/100\n",
            "7/7 - 1s - loss: 0.0332 - accuracy: 0.5896 - val_loss: 0.0468 - val_accuracy: 0.4024\n",
            "Epoch 8/100\n",
            "7/7 - 1s - loss: 0.0336 - accuracy: 0.5827 - val_loss: 0.0475 - val_accuracy: 0.3865\n",
            "Epoch 9/100\n",
            "7/7 - 1s - loss: 0.0342 - accuracy: 0.5847 - val_loss: 0.0476 - val_accuracy: 0.3944\n",
            "Epoch 10/100\n",
            "7/7 - 1s - loss: 0.0334 - accuracy: 0.5956 - val_loss: 0.0456 - val_accuracy: 0.4143\n",
            "Epoch 11/100\n",
            "7/7 - 1s - loss: 0.0333 - accuracy: 0.5857 - val_loss: 0.0462 - val_accuracy: 0.4263\n",
            "Epoch 12/100\n",
            "7/7 - 1s - loss: 0.0334 - accuracy: 0.5896 - val_loss: 0.0461 - val_accuracy: 0.4143\n",
            "Epoch 13/100\n",
            "7/7 - 1s - loss: 0.0333 - accuracy: 0.5837 - val_loss: 0.0478 - val_accuracy: 0.3705\n",
            "Epoch 14/100\n",
            "7/7 - 1s - loss: 0.0330 - accuracy: 0.5976 - val_loss: 0.0467 - val_accuracy: 0.4183\n",
            "Epoch 15/100\n",
            "7/7 - 1s - loss: 0.0324 - accuracy: 0.5946 - val_loss: 0.0463 - val_accuracy: 0.4104\n",
            "Epoch 16/100\n",
            "7/7 - 1s - loss: 0.0321 - accuracy: 0.6046 - val_loss: 0.0471 - val_accuracy: 0.3904\n",
            "Epoch 17/100\n",
            "7/7 - 1s - loss: 0.0323 - accuracy: 0.6006 - val_loss: 0.0466 - val_accuracy: 0.3904\n",
            "Epoch 18/100\n",
            "7/7 - 1s - loss: 0.0318 - accuracy: 0.6056 - val_loss: 0.0457 - val_accuracy: 0.4263\n",
            "Epoch 19/100\n",
            "7/7 - 1s - loss: 0.0319 - accuracy: 0.6046 - val_loss: 0.0478 - val_accuracy: 0.3745\n",
            "Epoch 20/100\n",
            "7/7 - 1s - loss: 0.0324 - accuracy: 0.5986 - val_loss: 0.0458 - val_accuracy: 0.4223\n",
            "Epoch 21/100\n",
            "7/7 - 1s - loss: 0.0328 - accuracy: 0.5916 - val_loss: 0.0499 - val_accuracy: 0.3586\n",
            "Epoch 22/100\n",
            "7/7 - 1s - loss: 0.0331 - accuracy: 0.5946 - val_loss: 0.0463 - val_accuracy: 0.4183\n",
            "Epoch 23/100\n",
            "7/7 - 1s - loss: 0.0326 - accuracy: 0.5936 - val_loss: 0.0466 - val_accuracy: 0.4024\n",
            "Epoch 24/100\n",
            "7/7 - 1s - loss: 0.0320 - accuracy: 0.6086 - val_loss: 0.0476 - val_accuracy: 0.4024\n",
            "Epoch 25/100\n",
            "7/7 - 1s - loss: 0.0320 - accuracy: 0.6016 - val_loss: 0.0456 - val_accuracy: 0.4183\n",
            "Epoch 26/100\n",
            "7/7 - 1s - loss: 0.0316 - accuracy: 0.6125 - val_loss: 0.0465 - val_accuracy: 0.4024\n",
            "Epoch 27/100\n",
            "7/7 - 1s - loss: 0.0315 - accuracy: 0.6066 - val_loss: 0.0480 - val_accuracy: 0.3785\n",
            "Epoch 28/100\n",
            "7/7 - 1s - loss: 0.0320 - accuracy: 0.6016 - val_loss: 0.0457 - val_accuracy: 0.4183\n",
            "Epoch 29/100\n",
            "7/7 - 1s - loss: 0.0316 - accuracy: 0.6175 - val_loss: 0.0470 - val_accuracy: 0.3984\n",
            "Epoch 30/100\n",
            "7/7 - 1s - loss: 0.0333 - accuracy: 0.5847 - val_loss: 0.0470 - val_accuracy: 0.3904\n",
            "Epoch 31/100\n",
            "7/7 - 1s - loss: 0.0331 - accuracy: 0.5936 - val_loss: 0.0471 - val_accuracy: 0.4382\n",
            "Epoch 32/100\n",
            "7/7 - 1s - loss: 0.0322 - accuracy: 0.6016 - val_loss: 0.0457 - val_accuracy: 0.4064\n",
            "Epoch 33/100\n",
            "7/7 - 1s - loss: 0.0314 - accuracy: 0.6096 - val_loss: 0.0477 - val_accuracy: 0.4024\n",
            "Epoch 34/100\n",
            "7/7 - 1s - loss: 0.0317 - accuracy: 0.6106 - val_loss: 0.0479 - val_accuracy: 0.3825\n",
            "Epoch 35/100\n",
            "7/7 - 1s - loss: 0.0306 - accuracy: 0.6155 - val_loss: 0.0488 - val_accuracy: 0.3705\n",
            "Epoch 36/100\n",
            "7/7 - 1s - loss: 0.0325 - accuracy: 0.5976 - val_loss: 0.0462 - val_accuracy: 0.4223\n",
            "Epoch 37/100\n",
            "7/7 - 1s - loss: 0.0338 - accuracy: 0.5797 - val_loss: 0.0495 - val_accuracy: 0.3307\n",
            "Epoch 38/100\n",
            "7/7 - 1s - loss: 0.0325 - accuracy: 0.5956 - val_loss: 0.0465 - val_accuracy: 0.4143\n",
            "Epoch 39/100\n",
            "7/7 - 1s - loss: 0.0323 - accuracy: 0.6066 - val_loss: 0.0471 - val_accuracy: 0.3825\n",
            "Epoch 40/100\n",
            "7/7 - 1s - loss: 0.0313 - accuracy: 0.6195 - val_loss: 0.0464 - val_accuracy: 0.4223\n",
            "Epoch 41/100\n",
            "7/7 - 1s - loss: 0.0320 - accuracy: 0.5996 - val_loss: 0.0465 - val_accuracy: 0.4064\n",
            "Epoch 42/100\n",
            "7/7 - 1s - loss: 0.0324 - accuracy: 0.5946 - val_loss: 0.0464 - val_accuracy: 0.4223\n",
            "Epoch 43/100\n",
            "7/7 - 1s - loss: 0.0328 - accuracy: 0.5956 - val_loss: 0.0473 - val_accuracy: 0.4064\n",
            "Epoch 44/100\n",
            "7/7 - 1s - loss: 0.0317 - accuracy: 0.6066 - val_loss: 0.0478 - val_accuracy: 0.3944\n",
            "Epoch 45/100\n",
            "7/7 - 1s - loss: 0.0313 - accuracy: 0.6066 - val_loss: 0.0471 - val_accuracy: 0.4104\n",
            "Epoch 46/100\n",
            "7/7 - 1s - loss: 0.0311 - accuracy: 0.6185 - val_loss: 0.0467 - val_accuracy: 0.3865\n",
            "Epoch 47/100\n",
            "7/7 - 1s - loss: 0.0314 - accuracy: 0.6116 - val_loss: 0.0484 - val_accuracy: 0.3825\n",
            "Epoch 48/100\n",
            "7/7 - 1s - loss: 0.0309 - accuracy: 0.6155 - val_loss: 0.0459 - val_accuracy: 0.4104\n",
            "Epoch 49/100\n",
            "7/7 - 1s - loss: 0.0303 - accuracy: 0.6215 - val_loss: 0.0485 - val_accuracy: 0.3825\n",
            "Epoch 50/100\n",
            "7/7 - 1s - loss: 0.0304 - accuracy: 0.6235 - val_loss: 0.0461 - val_accuracy: 0.4223\n",
            "Epoch 51/100\n",
            "7/7 - 1s - loss: 0.0303 - accuracy: 0.6265 - val_loss: 0.0468 - val_accuracy: 0.4064\n",
            "Epoch 52/100\n",
            "7/7 - 1s - loss: 0.0302 - accuracy: 0.6225 - val_loss: 0.0463 - val_accuracy: 0.4104\n",
            "Epoch 53/100\n",
            "7/7 - 1s - loss: 0.0297 - accuracy: 0.6325 - val_loss: 0.0473 - val_accuracy: 0.4024\n",
            "Epoch 54/100\n",
            "7/7 - 1s - loss: 0.0300 - accuracy: 0.6305 - val_loss: 0.0477 - val_accuracy: 0.4064\n",
            "Epoch 55/100\n",
            "7/7 - 1s - loss: 0.0310 - accuracy: 0.6185 - val_loss: 0.0472 - val_accuracy: 0.4143\n",
            "Epoch 56/100\n",
            "7/7 - 1s - loss: 0.0304 - accuracy: 0.6335 - val_loss: 0.0460 - val_accuracy: 0.4303\n",
            "Epoch 57/100\n",
            "7/7 - 1s - loss: 0.0311 - accuracy: 0.6135 - val_loss: 0.0502 - val_accuracy: 0.3466\n",
            "Epoch 58/100\n",
            "7/7 - 1s - loss: 0.0315 - accuracy: 0.6096 - val_loss: 0.0475 - val_accuracy: 0.3984\n",
            "Epoch 59/100\n",
            "7/7 - 1s - loss: 0.0309 - accuracy: 0.6205 - val_loss: 0.0475 - val_accuracy: 0.3785\n",
            "Epoch 60/100\n",
            "7/7 - 1s - loss: 0.0298 - accuracy: 0.6355 - val_loss: 0.0462 - val_accuracy: 0.4422\n",
            "Epoch 61/100\n",
            "7/7 - 1s - loss: 0.0298 - accuracy: 0.6235 - val_loss: 0.0473 - val_accuracy: 0.4143\n",
            "Epoch 62/100\n",
            "7/7 - 1s - loss: 0.0299 - accuracy: 0.6285 - val_loss: 0.0459 - val_accuracy: 0.4223\n",
            "Epoch 63/100\n",
            "7/7 - 1s - loss: 0.0302 - accuracy: 0.6275 - val_loss: 0.0498 - val_accuracy: 0.3705\n",
            "Epoch 64/100\n",
            "7/7 - 1s - loss: 0.0301 - accuracy: 0.6305 - val_loss: 0.0462 - val_accuracy: 0.4104\n",
            "Epoch 65/100\n",
            "7/7 - 1s - loss: 0.0304 - accuracy: 0.6235 - val_loss: 0.0481 - val_accuracy: 0.3785\n",
            "Epoch 66/100\n",
            "7/7 - 1s - loss: 0.0297 - accuracy: 0.6335 - val_loss: 0.0463 - val_accuracy: 0.4343\n",
            "Epoch 67/100\n",
            "7/7 - 1s - loss: 0.0291 - accuracy: 0.6365 - val_loss: 0.0473 - val_accuracy: 0.4064\n",
            "Epoch 68/100\n",
            "7/7 - 1s - loss: 0.0297 - accuracy: 0.6285 - val_loss: 0.0467 - val_accuracy: 0.4183\n",
            "Epoch 69/100\n",
            "7/7 - 1s - loss: 0.0303 - accuracy: 0.6255 - val_loss: 0.0473 - val_accuracy: 0.4024\n",
            "Epoch 70/100\n",
            "7/7 - 1s - loss: 0.0296 - accuracy: 0.6285 - val_loss: 0.0479 - val_accuracy: 0.3904\n",
            "Epoch 71/100\n",
            "7/7 - 1s - loss: 0.0297 - accuracy: 0.6235 - val_loss: 0.0469 - val_accuracy: 0.4223\n",
            "Epoch 72/100\n",
            "7/7 - 1s - loss: 0.0304 - accuracy: 0.6225 - val_loss: 0.0487 - val_accuracy: 0.3785\n",
            "Epoch 73/100\n",
            "7/7 - 1s - loss: 0.0304 - accuracy: 0.6265 - val_loss: 0.0476 - val_accuracy: 0.3984\n",
            "Epoch 74/100\n",
            "7/7 - 1s - loss: 0.0297 - accuracy: 0.6295 - val_loss: 0.0474 - val_accuracy: 0.3904\n",
            "Epoch 75/100\n",
            "7/7 - 1s - loss: 0.0292 - accuracy: 0.6384 - val_loss: 0.0467 - val_accuracy: 0.4143\n",
            "Epoch 76/100\n",
            "7/7 - 1s - loss: 0.0287 - accuracy: 0.6444 - val_loss: 0.0466 - val_accuracy: 0.4303\n",
            "Epoch 77/100\n",
            "7/7 - 1s - loss: 0.0286 - accuracy: 0.6424 - val_loss: 0.0466 - val_accuracy: 0.4143\n",
            "Epoch 78/100\n",
            "7/7 - 1s - loss: 0.0289 - accuracy: 0.6404 - val_loss: 0.0471 - val_accuracy: 0.4143\n",
            "Epoch 79/100\n",
            "7/7 - 1s - loss: 0.0292 - accuracy: 0.6424 - val_loss: 0.0492 - val_accuracy: 0.3904\n",
            "Epoch 80/100\n",
            "7/7 - 1s - loss: 0.0292 - accuracy: 0.6325 - val_loss: 0.0476 - val_accuracy: 0.4024\n",
            "Epoch 81/100\n",
            "7/7 - 1s - loss: 0.0290 - accuracy: 0.6335 - val_loss: 0.0485 - val_accuracy: 0.3785\n",
            "Epoch 82/100\n",
            "7/7 - 1s - loss: 0.0296 - accuracy: 0.6384 - val_loss: 0.0474 - val_accuracy: 0.3984\n",
            "Epoch 83/100\n",
            "7/7 - 1s - loss: 0.0292 - accuracy: 0.6365 - val_loss: 0.0475 - val_accuracy: 0.4064\n",
            "Epoch 84/100\n",
            "7/7 - 1s - loss: 0.0286 - accuracy: 0.6504 - val_loss: 0.0469 - val_accuracy: 0.4183\n",
            "Epoch 85/100\n",
            "7/7 - 1s - loss: 0.0287 - accuracy: 0.6434 - val_loss: 0.0486 - val_accuracy: 0.3904\n",
            "Epoch 86/100\n",
            "7/7 - 1s - loss: 0.0295 - accuracy: 0.6325 - val_loss: 0.0473 - val_accuracy: 0.4223\n",
            "Epoch 87/100\n",
            "7/7 - 1s - loss: 0.0308 - accuracy: 0.6275 - val_loss: 0.0503 - val_accuracy: 0.3546\n",
            "Epoch 88/100\n",
            "7/7 - 1s - loss: 0.0296 - accuracy: 0.6335 - val_loss: 0.0476 - val_accuracy: 0.4223\n",
            "Epoch 89/100\n",
            "7/7 - 1s - loss: 0.0292 - accuracy: 0.6275 - val_loss: 0.0485 - val_accuracy: 0.3865\n",
            "Epoch 90/100\n",
            "7/7 - 1s - loss: 0.0288 - accuracy: 0.6444 - val_loss: 0.0470 - val_accuracy: 0.3984\n",
            "Epoch 91/100\n",
            "7/7 - 1s - loss: 0.0286 - accuracy: 0.6474 - val_loss: 0.0471 - val_accuracy: 0.4223\n",
            "Epoch 92/100\n",
            "7/7 - 1s - loss: 0.0284 - accuracy: 0.6494 - val_loss: 0.0492 - val_accuracy: 0.3625\n",
            "Epoch 93/100\n",
            "7/7 - 1s - loss: 0.0291 - accuracy: 0.6414 - val_loss: 0.0465 - val_accuracy: 0.4382\n",
            "Epoch 94/100\n",
            "7/7 - 1s - loss: 0.0296 - accuracy: 0.6335 - val_loss: 0.0511 - val_accuracy: 0.3347\n",
            "Epoch 95/100\n",
            "7/7 - 1s - loss: 0.0291 - accuracy: 0.6345 - val_loss: 0.0471 - val_accuracy: 0.4183\n",
            "Epoch 96/100\n",
            "7/7 - 1s - loss: 0.0287 - accuracy: 0.6384 - val_loss: 0.0483 - val_accuracy: 0.4024\n",
            "Epoch 97/100\n",
            "7/7 - 1s - loss: 0.0285 - accuracy: 0.6474 - val_loss: 0.0469 - val_accuracy: 0.4223\n",
            "Epoch 98/100\n",
            "7/7 - 1s - loss: 0.0283 - accuracy: 0.6544 - val_loss: 0.0506 - val_accuracy: 0.3586\n",
            "Epoch 99/100\n",
            "7/7 - 1s - loss: 0.0297 - accuracy: 0.6404 - val_loss: 0.0491 - val_accuracy: 0.3745\n",
            "Epoch 100/100\n",
            "7/7 - 1s - loss: 0.0290 - accuracy: 0.6345 - val_loss: 0.0478 - val_accuracy: 0.4183\n",
            "@ Deep Learning>  LSTM Train\n",
            "Finish\n"
          ],
          "name": "stdout"
        }
      ]
    },
    {
      "cell_type": "markdown",
      "metadata": {
        "id": "XKVVaPWw_iqH"
      },
      "source": [
        "Bây giờ hãy cùng test xem độ chính xác của model nào."
      ]
    },
    {
      "cell_type": "code",
      "metadata": {
        "id": "ZIYnVz_lheTP"
      },
      "source": [
        "def getNameLabelsVal(count: int):\n",
        "  return names[0: count], labels[0: count]"
      ],
      "execution_count": 53,
      "outputs": []
    },
    {
      "cell_type": "code",
      "metadata": {
        "id": "cFXjHyOU_53d",
        "outputId": "97e12cc4-99c6-40fd-fcc6-23ff65ab0723",
        "colab": {
          "base_uri": "https://localhost:8080/",
          "height": 71
        }
      },
      "source": [
        "namesVald, labelsVald = getNameLabelsVal(100)\n",
        "\n",
        "print(namesVald)\n",
        "print(len(namesVald))"
      ],
      "execution_count": 55,
      "outputs": [
        {
          "output_type": "stream",
          "text": [
            "('/dn/dn8_030_002+10F.avi', '/om/om1_123_002.avi', '/vd/vd3_055_018.avi', '/da/da7_186_001.avi', '/nt/nt5_108_001_20F.avi', '/nc/nc10_134_001.avi', '/dn/dn10_134_005.avi', '/ne/ne7_194_006.avi', '/lk/lk8_024_003.avi', '/dn/dn8_026_002.avi', '/dn/dn2_012_001.avi', '/xd/xd8_023_002.avi', '/dn/dn7_192_003.avi', '/ne/ne3_047_001.avi', '/da/da8_035_002.avi', '/dn/dn6_205_008.avi', '/kc/kc9_167_001.avi', '/lg/lg2_009_003.avi', '/dn/dn6_201_001.avi', '/dn/dn9_166_002_15F.avi', '/xt/xt6_199_001_30f.avi', '/xt/xt3_050_008.avi', '/lk/lk7_177_001_14F.avi', '/om/om5_104_002.avi', '/vd/vd3_048_002.avi', '/vk/vk3_045_004.avi', '/vk/vk3_046_001.avi', '/om/om5_091_003.avi', '/dn/dn10_138_019.avi', '/da/da7_197_001.avi', '/lg/lg7_196_001.avi', '/dn/dn1_123_005.avi', '/dn/dn6_205_004.avi', '/xd/xd3_056_001.avi', '/xd/xd7_191_002.avi', '/da/da8_034_0071.avi', '/kc/kc8_029_004.avi', '/ne/ne3_052_011.avi', '/lg/lg8_034_001.avi', '/vk/vk8_026_001.avi', '/nt/nt10_138_003.avi', '/nt/nt4_072_002.avi', '/om/om8_029_001.avi', '/nt/nt9_168_002_25F.avi', '/dn/dn5_109_001.avi', '/da/da6_203_001_22f.avi', '/da/da6_208_001.avi', '/dn/dn1_131_003.avi', '/dn/dn7_185_001.avi', '/om/om10_138_001.avi', '/nt/nt1_117_002.avi', '/vd/vd3_061_001.avi', '/dn/dn5_099_001.avi', '/lg/lg6_206_002.avi', '/ne/ne7_177_001.avi', '/dn/dn3_050_003.avi', '/dn/dn8_029_002+3F.avi', '/xd/xd6_200_001_22f.avi', '/vd/vd3_055_006.avi', '/xt/xt5_110_005.avi', '/ne/ne3_052_021.avi', '/xt/xt3_050_003.avi', '/om/om10_134_006.avi', '/kc/kc10_138_001.avi', '/da/da1_111_004.avi', '/nt/nt6_208_001.avi', '/dn/dn10_138_010.avi', '/dn/dn7_190_002.avi', '/om/om10_138_003.avi', '/xd/xd10_138_001.avi', '/om/om3_064_001.avi', '/nt/nt2_007_005.avi', '/xd/xd6_200_0021.avi', '/ne/ne3_052_020.avi', '/na/na5_096_001_20F.avi', '/vd/vd3_055_003.avi', '/vk/vk8_043_003.avi', '/dn/dn10_138_006.avi', '/dn/dn5_100_006_18F.avi', '/dn/dn9_168_003.avi', '/kc/kc8_024_001.avi', '/nc/nc1_113_001.avi', '/dn/dn6_209_001.avi', '/dn/dn3_050_015.avi', '/nt/nt4_072_001.avi', '/dn/dn7_195_004.avi', '/xt/xt4_072_002.avi', '/vk/vk2_012_003.avi', '/nt/nt2_007_006.avi', '/dn/dn8_039_004.avi', '/da/da8_027_001+11F.avi', '/dn/dn7_195_001.avi', '/nt/nt9_170_004.avi', '/dn/dn2_003_001.avi', '/dn/dn3_054_001.avi', '/om/om3_065_002.avi', '/vd/vd3_055_004.avi', '/vd/vd3_046_003.avi', '/lg/lg2_009_001_20F.avi', '/dn/dn6_199_001.avi')\n",
            "100\n"
          ],
          "name": "stdout"
        }
      ]
    },
    {
      "cell_type": "code",
      "metadata": {
        "id": "B-otwz7wBhVP"
      },
      "source": [
        "def getValdSet_ValdLabelSet(numItem: int):\n",
        "  count = 0\n",
        "  valdSet = []\n",
        "  valdLabel = []\n",
        "  while count < numItem:\n",
        "    itemVald = getTransferValue(pathVideoOrListFrame= DIR_INPUT_TRAIN + namesVald[count])\n",
        "    itemLabel = onesHotLabel(label= labelsVald[count])\n",
        "\n",
        "    valdSet.append(itemVald)\n",
        "    valdLabel.append(itemLabel[0])\n",
        "\n",
        "    fun_print_process(count= count, max= numItem)\n",
        "    count += 1\n",
        "\n",
        "  return valdSet, valdLabel"
      ],
      "execution_count": 59,
      "outputs": []
    },
    {
      "cell_type": "code",
      "metadata": {
        "id": "UgHWRjElCwax",
        "outputId": "453ead43-cc0c-4a48-ad79-bf0bd19bfb8b",
        "colab": {
          "base_uri": "https://localhost:8080/",
          "height": 34
        }
      },
      "source": [
        "valdSet, valdLabelSet = getValdSet_ValdLabelSet(numItem= len(namesVald))"
      ],
      "execution_count": 60,
      "outputs": [
        {
          "output_type": "stream",
          "text": [
            " - Processing:  [99.0%]"
          ],
          "name": "stdout"
        }
      ]
    },
    {
      "cell_type": "code",
      "metadata": {
        "id": "m4_RaFFyDGqO",
        "outputId": "ec066c7a-4a07-4887-cf9c-6f2e14b14cb5",
        "colab": {
          "base_uri": "https://localhost:8080/",
          "height": 34
        }
      },
      "source": [
        "result = model.evaluate(np.array(valdSet), np.array(valdLabelSet))"
      ],
      "execution_count": 61,
      "outputs": [
        {
          "output_type": "stream",
          "text": [
            "4/4 [==============================] - 0s 14ms/step - loss: 0.0352 - accuracy: 0.5500\n"
          ],
          "name": "stdout"
        }
      ]
    },
    {
      "cell_type": "code",
      "metadata": {
        "id": "3zmjAiHHDcXQ",
        "outputId": "916891bc-5fbe-4a36-b861-b2abc623b678",
        "colab": {
          "base_uri": "https://localhost:8080/",
          "height": 51
        }
      },
      "source": [
        "for name, value in zip(model.metrics_names, result):\n",
        "  print(name, value)"
      ],
      "execution_count": 62,
      "outputs": [
        {
          "output_type": "stream",
          "text": [
            "loss 0.03522932156920433\n",
            "accuracy 0.550000011920929\n"
          ],
          "name": "stdout"
        }
      ]
    },
    {
      "cell_type": "markdown",
      "metadata": {
        "id": "tNxZ0El7EBa1"
      },
      "source": [
        "Hãy cùng thử predict với từng video và xem kết quả nào"
      ]
    },
    {
      "cell_type": "code",
      "metadata": {
        "id": "24b_2KDPEHFg",
        "outputId": "ec7f9495-7ce6-4de8-9f19-2031b8c9bd56",
        "colab": {
          "base_uri": "https://localhost:8080/",
          "height": 1000
        }
      },
      "source": [
        "for file in namesVald:\n",
        "  frames = getTransferValue(pathVideoOrListFrame= DIR_INPUT_TRAIN + file)\n",
        "  pre = model.predict(np.array([frames]))\n",
        "  fun_print(name= 'predict: ' + file + ' | {0}'.format(np.argmax(pre)), value= pre)\n",
        "  print('\\r')"
      ],
      "execution_count": 63,
      "outputs": [
        {
          "output_type": "stream",
          "text": [
            "@ Deep Learning>  predict: /dn/dn8_030_002+10F.avi | 3\n",
            "[[1.18904293e-03 7.21564458e-04 2.89783645e-02 7.54066944e-01\n",
            "  8.01245682e-03 4.25280184e-02 8.55987612e-03 1.15650995e-02\n",
            "  8.02562293e-03 6.07429363e-04 2.16689184e-02 2.22636722e-02\n",
            "  2.71137280e-04 1.44017104e-03 2.83728656e-03 2.27394048e-02\n",
            "  6.45249337e-02]]\n",
            "\n",
            "@ Deep Learning>  predict: /om/om1_123_002.avi | 11\n",
            "[[0.00564696 0.00099151 0.00165794 0.26298362 0.01539241 0.005252\n",
            "  0.02653017 0.10766509 0.00634273 0.0113151  0.04744524 0.2832051\n",
            "  0.01585857 0.00340945 0.0096161  0.18441096 0.01227707]]\n",
            "\n",
            "@ Deep Learning>  predict: /vd/vd3_055_018.avi | 13\n",
            "[[4.2883641e-04 1.0985852e-04 1.5954213e-03 2.3801650e-03 3.3538940e-03\n",
            "  1.2494946e-03 3.4331023e-03 6.9849081e-02 1.2842685e-03 8.5208472e-03\n",
            "  1.5034587e-02 8.6867595e-03 2.9956771e-04 8.6696815e-01 1.2559790e-02\n",
            "  4.2231400e-03 2.3004462e-05]]\n",
            "\n",
            "@ Deep Learning>  predict: /da/da7_186_001.avi | 2\n",
            "[[1.7810630e-03 5.8537110e-04 3.5226464e-01 1.0526584e-01 1.9591875e-02\n",
            "  2.4286747e-02 7.4198000e-02 2.5862910e-02 7.3053632e-03 8.6842468e-03\n",
            "  1.2875207e-01 6.1406866e-02 2.7891563e-04 4.9187679e-02 4.5020036e-02\n",
            "  8.7485544e-02 8.0428896e-03]]\n",
            "\n",
            "@ Deep Learning>  predict: /nt/nt5_108_001_20F.avi | 10\n",
            "[[3.9795153e-03 3.4798559e-04 5.6634136e-02 5.3557456e-02 3.7373479e-02\n",
            "  6.0758945e-02 1.3964704e-02 9.1189798e-03 7.3477104e-03 5.3722278e-04\n",
            "  6.4283454e-01 1.8320236e-02 1.0797443e-03 1.2385099e-02 4.3526735e-02\n",
            "  3.7566707e-02 6.6680904e-04]]\n",
            "\n",
            "@ Deep Learning>  predict: /nc/nc10_134_001.avi | 9\n",
            "[[4.8321165e-04 1.5314546e-04 6.9957244e-04 4.4435253e-03 7.1775063e-04\n",
            "  4.5435739e-04 1.9599274e-03 4.6899267e-03 2.1641486e-04 9.5068437e-01\n",
            "  1.3099683e-02 4.6360060e-03 5.8412883e-05 8.3893472e-03 5.8460278e-03\n",
            "  2.8491141e-03 6.1908801e-04]]\n",
            "\n",
            "@ Deep Learning>  predict: /dn/dn10_134_005.avi | 3\n",
            "[[2.7484910e-03 1.9081983e-04 3.0080503e-04 9.3495816e-01 1.2994554e-03\n",
            "  1.1613098e-03 2.0711166e-03 3.6050726e-03 2.2762681e-03 5.3241802e-04\n",
            "  4.3705744e-03 1.2931579e-02 2.1668395e-03 7.9321006e-05 1.5681570e-03\n",
            "  2.4852587e-02 4.8870663e-03]]\n",
            "\n",
            "@ Deep Learning>  predict: /ne/ne7_194_006.avi | 9\n",
            "[[3.9305320e-04 1.3894022e-04 6.3881790e-04 3.8743194e-03 6.6461461e-04\n",
            "  4.1751607e-04 2.1776666e-03 3.8048751e-03 1.7462144e-04 9.5641786e-01\n",
            "  1.2848160e-02 4.4420166e-03 4.4036831e-05 4.2083203e-03 6.0209702e-03\n",
            "  2.9947187e-03 7.3947519e-04]]\n",
            "\n",
            "@ Deep Learning>  predict: /lk/lk8_024_003.avi | 3\n",
            "[[3.62585601e-03 2.34304738e-04 3.07617476e-03 6.58319890e-01\n",
            "  1.59128048e-02 7.99415633e-03 1.62903089e-02 2.51611341e-02\n",
            "  8.72623269e-03 2.22779484e-03 6.59661815e-02 3.47315930e-02\n",
            "  2.15231185e-03 1.37950545e-02 5.57005927e-02 8.41727927e-02\n",
            "  1.91281852e-03]]\n",
            "\n",
            "@ Deep Learning>  predict: /dn/dn8_026_002.avi | 3\n",
            "[[9.4420806e-04 1.7527398e-04 2.8383336e-03 9.0935808e-01 4.5926846e-03\n",
            "  3.6671830e-03 3.9745481e-03 5.7347561e-03 3.9102463e-03 1.6314171e-03\n",
            "  1.2060325e-02 9.5890928e-03 2.8123258e-04 2.4802941e-03 1.7573891e-02\n",
            "  1.9699279e-02 1.4892080e-03]]\n",
            "\n",
            "@ Deep Learning>  predict: /dn/dn2_012_001.avi | 14\n",
            "[[5.2910452e-03 3.4286952e-04 4.3478638e-02 1.9752584e-01 3.1105807e-02\n",
            "  3.2503817e-02 3.1549089e-02 1.8700514e-02 1.3585357e-02 1.6531143e-03\n",
            "  2.0567341e-01 2.8660664e-02 1.9907730e-03 3.7445448e-02 2.8046891e-01\n",
            "  6.9889523e-02 1.3512619e-04]]\n",
            "\n",
            "@ Deep Learning>  predict: /xd/xd8_023_002.avi | 3\n",
            "[[0.00491342 0.00076782 0.00196797 0.2683301  0.01680187 0.0056248\n",
            "  0.03074398 0.11602171 0.00617919 0.01112023 0.06460514 0.23296814\n",
            "  0.01175543 0.00512728 0.01188321 0.19585116 0.0153385 ]]\n",
            "\n",
            "@ Deep Learning>  predict: /dn/dn7_192_003.avi | 3\n",
            "[[7.9754513e-04 2.7097168e-04 8.1354259e-03 9.0919149e-01 3.4429019e-03\n",
            "  8.0856597e-03 4.4288882e-03 4.9162586e-03 5.8042817e-03 6.3116528e-04\n",
            "  5.6228759e-03 1.3478581e-02 1.4211699e-04 8.7246211e-04 4.4564363e-03\n",
            "  2.2447871e-02 7.2750715e-03]]\n",
            "\n",
            "@ Deep Learning>  predict: /ne/ne3_047_001.avi | 3\n",
            "[[2.2080448e-03 7.6315011e-04 1.9776872e-01 5.1643825e-01 1.3197516e-02\n",
            "  4.2194128e-02 1.6489886e-02 2.7064597e-02 2.2835711e-02 1.1794008e-03\n",
            "  4.0309895e-02 5.3007863e-02 2.6391010e-04 3.8182968e-03 6.7300573e-03\n",
            "  4.4680517e-02 1.1050071e-02]]\n",
            "\n",
            "@ Deep Learning>  predict: /da/da8_035_002.avi | 2\n",
            "[[1.6865804e-03 5.6030002e-04 3.5813355e-01 6.6184223e-02 2.0771652e-02\n",
            "  2.2557789e-02 9.4265699e-02 2.5935117e-02 6.0379733e-03 1.0472960e-02\n",
            "  1.2632188e-01 5.9966642e-02 2.6481517e-04 5.7768270e-02 5.4177515e-02\n",
            "  8.8603221e-02 6.2917033e-03]]\n",
            "\n",
            "@ Deep Learning>  predict: /dn/dn6_205_008.avi | 3\n",
            "[[1.7257330e-03 4.5294515e-04 6.0790367e-02 7.6783592e-01 6.7002941e-03\n",
            "  1.5778817e-02 1.3232221e-02 1.4083514e-02 1.5690399e-02 1.1669813e-03\n",
            "  1.5180505e-02 3.1140560e-02 2.7349323e-04 3.6353664e-03 1.2099158e-02\n",
            "  3.6730461e-02 3.4832750e-03]]\n",
            "\n",
            "@ Deep Learning>  predict: /kc/kc9_167_001.avi | 3\n",
            "[[0.00611116 0.00072781 0.00212889 0.29595917 0.01763149 0.00645925\n",
            "  0.02806443 0.13812648 0.00789548 0.00728711 0.05214585 0.19004029\n",
            "  0.01157743 0.00657541 0.0146778  0.20075095 0.01384109]]\n",
            "\n",
            "@ Deep Learning>  predict: /lg/lg2_009_003.avi | 3\n",
            "[[0.00577071 0.00141836 0.0864468  0.34966677 0.03486603 0.18405057\n",
            "  0.02663366 0.03325108 0.01519152 0.00079213 0.10219797 0.05432412\n",
            "  0.00114618 0.00515579 0.01091228 0.06819289 0.01998312]]\n",
            "\n",
            "@ Deep Learning>  predict: /dn/dn6_201_001.avi | 3\n",
            "[[0.00822751 0.0011026  0.00103634 0.6089665  0.00796575 0.00435349\n",
            "  0.01736538 0.04034013 0.00753156 0.00592423 0.02771941 0.11984422\n",
            "  0.01360533 0.00100202 0.00776683 0.11015071 0.01709795]]\n",
            "\n",
            "@ Deep Learning>  predict: /dn/dn9_166_002_15F.avi | 3\n",
            "[[7.9214835e-04 9.6650227e-05 1.0429305e-03 9.0726119e-01 4.1252812e-03\n",
            "  2.2278919e-03 4.3381383e-03 5.1631462e-03 3.2458047e-03 1.2114196e-03\n",
            "  1.7348256e-02 1.0803625e-02 4.3289858e-04 4.0355129e-03 1.0936203e-02\n",
            "  2.3768231e-02 3.1706309e-03]]\n",
            "\n",
            "@ Deep Learning>  predict: /xt/xt6_199_001_30f.avi | 3\n",
            "[[1.7488638e-03 9.4957661e-04 5.0468732e-02 6.8875730e-01 1.1026418e-02\n",
            "  5.3191170e-02 1.1407582e-02 1.6021991e-02 1.0982253e-02 7.5674662e-04\n",
            "  3.0421907e-02 3.2567073e-02 3.1101366e-04 1.6823407e-03 3.2515945e-03\n",
            "  2.9613102e-02 5.6842338e-02]]\n",
            "\n",
            "@ Deep Learning>  predict: /xt/xt3_050_008.avi | 16\n",
            "[[1.4165613e-03 4.5639265e-04 6.2043201e-03 2.3745199e-01 5.1433593e-03\n",
            "  1.8864207e-02 4.0205759e-03 4.9244501e-03 3.8900904e-03 2.4279478e-04\n",
            "  2.9522408e-02 7.5332765e-03 4.0539360e-04 3.5315819e-04 9.7758905e-04\n",
            "  2.4001725e-02 6.5459174e-01]]\n",
            "\n",
            "@ Deep Learning>  predict: /lk/lk7_177_001_14F.avi | 3\n",
            "[[0.00165164 0.00056042 0.13852082 0.44147348 0.01488927 0.02351419\n",
            "  0.03566135 0.02143722 0.01052667 0.00833991 0.07769607 0.03496491\n",
            "  0.0005009  0.03311665 0.07353749 0.07429836 0.00931064]]\n",
            "\n",
            "@ Deep Learning>  predict: /om/om5_104_002.avi | 3\n",
            "[[0.0022339  0.00038804 0.04054831 0.2591517  0.01907017 0.01638942\n",
            "  0.04193343 0.06883468 0.01003249 0.01175676 0.07135206 0.03305131\n",
            "  0.00136719 0.11416402 0.24473651 0.06410447 0.00088555]]\n",
            "\n",
            "@ Deep Learning>  predict: /vd/vd3_048_002.avi | 14\n",
            "[[1.0549118e-03 3.2523734e-04 4.6341680e-02 4.4865552e-02 1.6531046e-02\n",
            "  9.2409188e-03 5.2973241e-02 2.1288617e-02 2.0467099e-03 3.2074008e-02\n",
            "  1.1037373e-01 1.5582201e-02 4.2393949e-04 1.4866064e-01 4.3728423e-01\n",
            "  5.9108160e-02 1.8251452e-03]]\n",
            "\n",
            "@ Deep Learning>  predict: /vk/vk3_045_004.avi | 14\n",
            "[[9.6543430e-04 3.4146089e-04 2.6137097e-02 3.9091256e-02 1.2285359e-02\n",
            "  5.9136460e-03 3.6724880e-02 1.4922968e-02 1.4309523e-03 3.6205348e-02\n",
            "  1.2360231e-01 1.3937132e-02 3.3586039e-04 1.1290097e-01 5.2377319e-01\n",
            "  4.9271610e-02 2.1605294e-03]]\n",
            "\n",
            "@ Deep Learning>  predict: /vk/vk3_046_001.avi | 14\n",
            "[[5.27356379e-03 2.58228480e-04 5.49833523e-03 2.16204766e-02\n",
            "  4.57135811e-02 1.94995943e-02 1.87916011e-02 1.33915544e-02\n",
            "  1.12958821e-02 8.68057250e-04 7.23538250e-02 5.11252470e-02\n",
            "  4.55078343e-03 2.34877616e-01 3.90959173e-01 1.03871405e-01\n",
            "  5.09858182e-05]]\n",
            "\n",
            "@ Deep Learning>  predict: /om/om5_091_003.avi | 11\n",
            "[[3.9730057e-02 8.5850648e-04 2.3713019e-03 3.4084778e-02 5.5987183e-02\n",
            "  1.6216047e-02 1.5850317e-02 2.5592424e-02 1.6645255e-02 5.1330833e-04\n",
            "  3.5610434e-02 3.2630807e-01 2.7351523e-02 7.9548713e-03 7.0553087e-02\n",
            "  3.2423908e-01 1.3384230e-04]]\n",
            "\n",
            "@ Deep Learning>  predict: /dn/dn10_138_019.avi | 3\n",
            "[[2.78671714e-03 4.73085005e-04 5.99760003e-02 5.32138765e-01\n",
            "  1.59140099e-02 1.79189444e-02 3.33246477e-02 4.25133854e-02\n",
            "  1.73743200e-02 4.36889147e-03 5.13140149e-02 3.37821618e-02\n",
            "  1.13238813e-03 2.77931765e-02 1.08438544e-01 4.97869700e-02\n",
            "  9.64009319e-04]]\n",
            "\n",
            "@ Deep Learning>  predict: /da/da7_197_001.avi | 2\n",
            "[[2.5882246e-03 7.5719628e-04 4.8917583e-01 1.7558564e-01 1.9767422e-02\n",
            "  6.5340675e-02 1.9754719e-02 2.9514091e-02 1.9585608e-02 9.0384192e-04\n",
            "  6.4481407e-02 4.9341567e-02 2.7479883e-04 4.1374946e-03 7.7894502e-03\n",
            "  4.5996498e-02 5.0055236e-03]]\n",
            "\n",
            "@ Deep Learning>  predict: /lg/lg7_196_001.avi | 3\n",
            "[[1.1421931e-03 3.6172880e-04 3.0229362e-02 7.9903781e-01 7.3588872e-03\n",
            "  1.2668013e-02 1.2223662e-02 5.9137568e-03 6.6008912e-03 1.9248556e-03\n",
            "  2.0712407e-02 2.3887808e-02 1.7352562e-04 2.3426830e-03 1.1239186e-02\n",
            "  5.1049992e-02 1.3133162e-02]]\n",
            "\n",
            "@ Deep Learning>  predict: /dn/dn1_123_005.avi | 3\n",
            "[[6.2382268e-03 6.0674781e-04 1.1670702e-03 6.7347610e-01 6.5066582e-03\n",
            "  3.8380097e-03 1.4008841e-02 3.4698855e-02 5.5063264e-03 3.6821424e-03\n",
            "  2.9852217e-02 7.9735346e-02 8.2053291e-03 8.7318366e-04 6.3898177e-03\n",
            "  1.0893479e-01 1.6280282e-02]]\n",
            "\n",
            "@ Deep Learning>  predict: /dn/dn6_205_004.avi | 3\n",
            "[[9.7868196e-04 3.1924652e-04 1.4984669e-02 8.8463157e-01 4.0030307e-03\n",
            "  8.9139212e-03 6.0816440e-03 6.0224882e-03 7.7892574e-03 7.1441609e-04\n",
            "  7.5249947e-03 1.7934997e-02 1.5782312e-04 1.1812833e-03 5.3639752e-03\n",
            "  2.6966857e-02 6.4310143e-03]]\n",
            "\n",
            "@ Deep Learning>  predict: /xd/xd3_056_001.avi | 11\n",
            "[[2.9949844e-02 8.8556035e-04 1.5542669e-03 2.5362296e-02 4.6825930e-02\n",
            "  1.2395609e-02 1.4272226e-02 2.7408240e-02 1.3426279e-02 6.1791862e-04\n",
            "  2.4865035e-02 4.5411316e-01 2.9113781e-02 7.4628368e-03 4.2394061e-02\n",
            "  2.6924223e-01 1.1064069e-04]]\n",
            "\n",
            "@ Deep Learning>  predict: /xd/xd7_191_002.avi | 2\n",
            "[[2.5594507e-03 6.5974012e-04 6.1358529e-01 5.8211308e-02 1.9822983e-02\n",
            "  7.3464155e-02 1.7447524e-02 2.7050268e-02 1.4698876e-02 5.0694071e-04\n",
            "  7.6836303e-02 4.1750893e-02 2.2190256e-04 3.2919443e-03 7.4698143e-03\n",
            "  4.0428877e-02 1.9937034e-03]]\n",
            "\n",
            "@ Deep Learning>  predict: /da/da8_034_0071.avi | 2\n",
            "[[2.5460622e-03 6.8002142e-04 5.8856595e-01 8.0493286e-02 2.0407988e-02\n",
            "  7.0805416e-02 1.8397598e-02 2.7725155e-02 1.5760103e-02 6.2433409e-04\n",
            "  7.6733932e-02 4.1376043e-02 2.4262883e-04 3.5790366e-03 8.0833714e-03\n",
            "  4.1407146e-02 2.5719958e-03]]\n",
            "\n",
            "@ Deep Learning>  predict: /kc/kc8_029_004.avi | 3\n",
            "[[2.0724165e-03 8.7335077e-04 4.7754962e-02 6.4929384e-01 1.5955683e-02\n",
            "  7.4506499e-02 1.5348242e-02 1.8263387e-02 9.9988608e-03 6.9324474e-04\n",
            "  4.2475220e-02 3.2574724e-02 5.1636511e-04 2.4992002e-03 5.1077805e-03\n",
            "  3.7830807e-02 4.4235528e-02]]\n",
            "\n",
            "@ Deep Learning>  predict: /ne/ne3_052_011.avi | 9\n",
            "[[3.2495894e-04 1.0858221e-04 4.3675824e-04 2.2008414e-03 4.2827509e-04\n",
            "  2.9801545e-04 1.2100976e-03 2.7541062e-03 1.3812930e-04 9.7130322e-01\n",
            "  6.6484031e-03 2.5604942e-03 3.2549353e-05 5.8527016e-03 3.9060940e-03\n",
            "  1.4711325e-03 3.2557809e-04]]\n",
            "\n",
            "@ Deep Learning>  predict: /lg/lg8_034_001.avi | 2\n",
            "[[2.54811347e-03 6.58674864e-04 6.10948324e-01 6.01249002e-02\n",
            "  2.00165808e-02 7.33079910e-02 1.76438671e-02 2.69767921e-02\n",
            "  1.46895405e-02 5.15404565e-04 7.72590637e-02 4.15414497e-02\n",
            "  2.25417840e-04 3.32613452e-03 7.57203391e-03 4.05947641e-02\n",
            "  2.05100491e-03]]\n",
            "\n",
            "@ Deep Learning>  predict: /vk/vk8_026_001.avi | 3\n",
            "[[2.54436862e-03 3.23562097e-04 2.80792769e-02 6.62700713e-01\n",
            "  1.10301636e-02 1.27378479e-02 1.45309195e-02 2.41285432e-02\n",
            "  1.30402679e-02 3.04624182e-03 3.88024226e-02 1.70547981e-02\n",
            "  7.43787677e-04 1.32142631e-02 1.19433105e-01 3.81935947e-02\n",
            "  3.96079093e-04]]\n",
            "\n",
            "@ Deep Learning>  predict: /nt/nt10_138_003.avi | 2\n",
            "[[1.6584180e-03 5.7805202e-04 3.5444105e-01 1.0907042e-01 1.9063486e-02\n",
            "  2.2604086e-02 7.2766505e-02 2.1821100e-02 6.7768861e-03 9.2756758e-03\n",
            "  1.3159616e-01 6.0292017e-02 2.4135291e-04 4.3638129e-02 4.3600027e-02\n",
            "  9.2973970e-02 9.6026184e-03]]\n",
            "\n",
            "@ Deep Learning>  predict: /nt/nt4_072_002.avi | 2\n",
            "[[0.00154523 0.00058004 0.2610464  0.17869289 0.01968873 0.0239174\n",
            "  0.06469241 0.01992496 0.00695656 0.01266792 0.12931333 0.04236864\n",
            "  0.0003285  0.04977063 0.07977447 0.09689655 0.01183527]]\n",
            "\n",
            "@ Deep Learning>  predict: /om/om8_029_001.avi | 3\n",
            "[[0.0045297  0.0007279  0.00195777 0.27115732 0.01681398 0.00559627\n",
            "  0.03081963 0.1092486  0.00577143 0.01235998 0.07151722 0.22957565\n",
            "  0.01084754 0.00523097 0.01273762 0.19470482 0.01640366]]\n",
            "\n",
            "@ Deep Learning>  predict: /nt/nt9_168_002_25F.avi | 10\n",
            "[[0.00247184 0.0005605  0.00196189 0.06964327 0.0155169  0.00243043\n",
            "  0.01570131 0.03813599 0.00148274 0.06878027 0.47497374 0.13320294\n",
            "  0.00270588 0.0277599  0.03427957 0.08454847 0.02584448]]\n",
            "\n",
            "@ Deep Learning>  predict: /dn/dn5_109_001.avi | 3\n",
            "[[1.8567878e-03 1.1690161e-03 8.2196064e-02 6.1945432e-01 1.1145244e-02\n",
            "  4.6085633e-02 1.0435995e-02 1.7028039e-02 1.4452232e-02 8.5351203e-04\n",
            "  3.5811316e-02 4.7749169e-02 2.1005806e-04 1.3869110e-03 2.2109745e-03\n",
            "  3.3772685e-02 7.4182004e-02]]\n",
            "\n",
            "@ Deep Learning>  predict: /da/da6_203_001_22f.avi | 3\n",
            "[[3.1244727e-03 4.9283885e-04 6.2720835e-02 5.5714971e-01 1.4537247e-02\n",
            "  1.8467955e-02 3.0081134e-02 3.9322138e-02 2.0078905e-02 3.1506047e-03\n",
            "  5.3336244e-02 3.2013170e-02 9.9539477e-04 1.9105621e-02 9.8483965e-02\n",
            "  4.6182975e-02 7.5681671e-04]]\n",
            "\n",
            "@ Deep Learning>  predict: /da/da6_208_001.avi | 2\n",
            "[[2.4113033e-03 8.8563986e-04 4.6053767e-01 1.9710192e-01 2.0451965e-02\n",
            "  6.9578335e-02 1.7753251e-02 2.7281230e-02 1.7718136e-02 8.7326160e-04\n",
            "  6.7253061e-02 5.4034021e-02 2.5597966e-04 3.2869196e-03 4.7839358e-03\n",
            "  4.4535957e-02 1.1257389e-02]]\n",
            "\n",
            "@ Deep Learning>  predict: /dn/dn1_131_003.avi | 3\n",
            "[[0.00539709 0.00089225 0.00157878 0.3953847  0.01105433 0.00449571\n",
            "  0.02056352 0.06192448 0.00501953 0.01474662 0.08322247 0.1969901\n",
            "  0.01005618 0.00246046 0.01648329 0.14762275 0.02210767]]\n",
            "\n",
            "@ Deep Learning>  predict: /dn/dn7_185_001.avi | 3\n",
            "[[1.1775350e-03 3.8032889e-04 3.7197813e-02 7.7046877e-01 8.0405287e-03\n",
            "  1.3784219e-02 1.3717620e-02 6.5200594e-03 6.8666707e-03 2.4525076e-03\n",
            "  2.4673974e-02 2.5340974e-02 1.9230029e-04 3.2154261e-03 1.4581252e-02\n",
            "  5.7476845e-02 1.3913146e-02]]\n",
            "\n",
            "@ Deep Learning>  predict: /om/om10_138_001.avi | 3\n",
            "[[1.42414751e-03 4.47504426e-04 3.58190350e-02 8.15760076e-01\n",
            "  5.92289818e-03 1.39947608e-02 9.54444427e-03 1.05045568e-02\n",
            "  1.26377335e-02 8.78237013e-04 1.32721681e-02 3.03228516e-02\n",
            "  1.99255548e-04 1.96381169e-03 6.24020724e-03 3.41795124e-02\n",
            "  6.88868947e-03]]\n",
            "\n",
            "@ Deep Learning>  predict: /nt/nt1_117_002.avi | 10\n",
            "[[1.03329001e-02 3.45739652e-04 4.70575551e-03 5.58753870e-02\n",
            "  2.62035485e-02 1.79797411e-02 6.48795953e-03 5.37437201e-03\n",
            "  5.44524333e-03 4.57016809e-04 7.19327629e-01 1.41375540e-02\n",
            "  2.96936906e-03 1.79108058e-03 1.27045885e-02 9.25321877e-02\n",
            "  2.33298745e-02]]\n",
            "\n",
            "@ Deep Learning>  predict: /vd/vd3_061_001.avi | 3\n",
            "[[2.4941142e-03 7.2031317e-04 1.7688942e-01 5.2911681e-01 1.3157125e-02\n",
            "  4.1064274e-02 1.8583195e-02 3.1520836e-02 2.5546102e-02 1.2066846e-03\n",
            "  3.9389327e-02 5.3747803e-02 2.8912045e-04 4.2723832e-03 8.7462692e-03\n",
            "  4.6257813e-02 6.9984533e-03]]\n",
            "\n",
            "@ Deep Learning>  predict: /dn/dn5_099_001.avi | 3\n",
            "[[2.0207562e-03 5.2980811e-04 9.7945891e-02 5.6817192e-01 1.2944073e-02\n",
            "  2.1439113e-02 3.1325888e-02 2.8856695e-02 1.5559435e-02 4.5866817e-03\n",
            "  4.2677466e-02 3.3507571e-02 7.2837016e-04 2.1537539e-02 6.2892467e-02\n",
            "  5.1939450e-02 3.3368657e-03]]\n",
            "\n",
            "@ Deep Learning>  predict: /lg/lg6_206_002.avi | 2\n",
            "[[3.50107835e-03 7.16905866e-04 5.01639068e-01 4.50878069e-02\n",
            "  2.63551828e-02 1.24596596e-01 1.64775848e-02 1.83381867e-02\n",
            "  1.44253550e-02 4.51354601e-04 1.31723240e-01 4.81917486e-02\n",
            "  3.55216500e-04 6.24395767e-03 1.01092737e-02 5.00810184e-02\n",
            "  1.70639995e-03]]\n",
            "\n",
            "@ Deep Learning>  predict: /ne/ne7_177_001.avi | 14\n",
            "[[1.4985018e-02 5.0801696e-04 5.1975730e-03 4.4612434e-02 7.6006353e-02\n",
            "  2.5021190e-02 2.4190458e-02 2.9886868e-02 1.6983816e-02 1.0427983e-03\n",
            "  7.6605797e-02 1.3516723e-01 1.1419704e-02 6.7171313e-02 2.3727177e-01\n",
            "  2.3381288e-01 1.1680618e-04]]\n",
            "\n",
            "@ Deep Learning>  predict: /dn/dn3_050_003.avi | 3\n",
            "[[5.15618641e-03 3.38892161e-04 2.32989294e-03 4.74275738e-01\n",
            "  1.54937608e-02 8.96464568e-03 2.42176391e-02 6.98876753e-02\n",
            "  8.12006649e-03 3.36081139e-03 8.17082897e-02 6.80101588e-02\n",
            "  4.96922433e-03 1.18391905e-02 4.49553020e-02 1.66779414e-01\n",
            "  9.59315337e-03]]\n",
            "\n",
            "@ Deep Learning>  predict: /dn/dn8_029_002+3F.avi | 3\n",
            "[[5.3784251e-03 4.0083751e-04 5.7963259e-04 8.5490680e-01 3.2700275e-03\n",
            "  2.3842298e-03 4.9146661e-03 9.9796802e-03 4.7085136e-03 9.9931611e-04\n",
            "  8.4006162e-03 3.3231538e-02 4.9452400e-03 2.9135193e-04 3.5094186e-03\n",
            "  5.5057872e-02 7.0417267e-03]]\n",
            "\n",
            "@ Deep Learning>  predict: /xd/xd6_200_001_22f.avi | 15\n",
            "[[5.0613403e-02 9.3526061e-04 2.3164200e-03 2.6856726e-02 6.9574021e-02\n",
            "  1.5800240e-02 1.5509668e-02 2.0812897e-02 1.7785441e-02 4.6425810e-04\n",
            "  4.8278257e-02 2.7706242e-01 2.7951214e-02 7.8166025e-03 7.4981287e-02\n",
            "  3.4306604e-01 1.7585854e-04]]\n",
            "\n",
            "@ Deep Learning>  predict: /vd/vd3_055_006.avi | 13\n",
            "[[2.5557796e-04 6.7179790e-05 6.0757238e-04 9.0369512e-04 2.5424196e-03\n",
            "  9.1503107e-04 1.9066532e-03 3.7288871e-02 7.7718659e-04 3.3930449e-03\n",
            "  6.7498935e-03 7.4235206e-03 2.5906603e-04 9.2430830e-01 1.0122744e-02\n",
            "  2.4714395e-03 7.8519815e-06]]\n",
            "\n",
            "@ Deep Learning>  predict: /xt/xt5_110_005.avi | 16\n",
            "[[7.9923554e-04 1.7629036e-04 1.9237226e-03 7.8987919e-02 2.2469382e-03\n",
            "  6.5342346e-03 1.4418684e-03 1.5496911e-03 1.7913735e-03 9.5040858e-05\n",
            "  2.1605354e-02 3.4086620e-03 2.2805753e-04 1.2262521e-04 2.9585496e-04\n",
            "  1.5416963e-02 8.6337620e-01]]\n",
            "\n",
            "@ Deep Learning>  predict: /ne/ne3_052_021.avi | 9\n",
            "[[2.34635896e-04 8.41851142e-05 4.09743981e-04 2.09758920e-03\n",
            "  4.27798746e-04 2.76466599e-04 1.10060093e-03 1.92795042e-03\n",
            "  1.14276096e-04 9.72889125e-01 6.64302614e-03 2.15004687e-03\n",
            "  2.24828200e-05 6.10288279e-03 4.07578796e-03 1.24602905e-03\n",
            "  1.97430301e-04]]\n",
            "\n",
            "@ Deep Learning>  predict: /xt/xt3_050_003.avi | 16\n",
            "[[1.0372007e-03 3.6363897e-04 5.5929939e-03 2.4938245e-01 3.7017814e-03\n",
            "  1.3761425e-02 3.5486165e-03 4.7678542e-03 3.4471143e-03 2.0267119e-04\n",
            "  2.1488963e-02 6.7791441e-03 3.2329766e-04 2.5578329e-04 8.1325677e-04\n",
            "  2.0241590e-02 6.6429222e-01]]\n",
            "\n",
            "@ Deep Learning>  predict: /om/om10_134_006.avi | 3\n",
            "[[7.4302908e-03 8.5934461e-04 8.3138683e-04 7.1581233e-01 5.9376890e-03\n",
            "  3.5743900e-03 1.2164568e-02 2.5591403e-02 6.7183091e-03 3.7105354e-03\n",
            "  1.9938556e-02 8.0700204e-02 1.0189099e-02 6.0385693e-04 6.0019307e-03\n",
            "  8.5869499e-02 1.4066608e-02]]\n",
            "\n",
            "@ Deep Learning>  predict: /kc/kc10_138_001.avi | 14\n",
            "[[0.00126614 0.00052119 0.15319875 0.13966371 0.02069421 0.01862103\n",
            "  0.06456991 0.01770591 0.0043442  0.02554573 0.12051983 0.02573504\n",
            "  0.00040411 0.08124907 0.22450854 0.09287491 0.00857773]]\n",
            "\n",
            "@ Deep Learning>  predict: /da/da1_111_004.avi | 2\n",
            "[[1.9274120e-03 8.7416678e-04 4.0355104e-01 2.7965322e-01 1.6349152e-02\n",
            "  6.1025452e-02 1.5119383e-02 2.6670881e-02 1.8768530e-02 9.6686772e-04\n",
            "  5.7754133e-02 5.1427625e-02 2.2525864e-04 3.4656129e-03 4.2181658e-03\n",
            "  3.9771721e-02 1.8231429e-02]]\n",
            "\n",
            "@ Deep Learning>  predict: /nt/nt6_208_001.avi | 3\n",
            "[[9.6661696e-04 6.0616323e-04 1.9023882e-02 7.6723588e-01 5.9620496e-03\n",
            "  3.3422276e-02 6.9437106e-03 9.5174070e-03 6.5959957e-03 4.8046446e-04\n",
            "  1.6937384e-02 1.8680727e-02 2.5874373e-04 1.1375971e-03 2.2421894e-03\n",
            "  1.9868782e-02 9.0120137e-02]]\n",
            "\n",
            "@ Deep Learning>  predict: /dn/dn10_138_010.avi | 3\n",
            "[[1.0289801e-03 8.8178378e-05 5.3965062e-04 9.0497386e-01 2.6159789e-03\n",
            "  1.5037754e-03 2.6428527e-03 4.7829594e-03 2.4810284e-03 6.8779080e-04\n",
            "  1.7642234e-02 1.1307233e-02 5.8844505e-04 8.3072542e-04 5.5536400e-03\n",
            "  3.1113120e-02 1.1619640e-02]]\n",
            "\n",
            "@ Deep Learning>  predict: /dn/dn7_190_002.avi | 3\n",
            "[[1.0129837e-03 3.4974993e-04 3.2636639e-02 8.3242345e-01 5.3865029e-03\n",
            "  1.1561938e-02 9.1504157e-03 6.5861377e-03 8.7361187e-03 1.2813329e-03\n",
            "  1.2721309e-02 2.0068986e-02 1.7571519e-04 2.4057454e-03 1.0688991e-02\n",
            "  3.7243731e-02 7.5702323e-03]]\n",
            "\n",
            "@ Deep Learning>  predict: /om/om10_138_003.avi | 3\n",
            "[[0.00302601 0.00081472 0.24185961 0.3083671  0.01679814 0.03119722\n",
            "  0.05034739 0.04937572 0.01916994 0.0038843  0.0572991  0.07621334\n",
            "  0.00060258 0.02954256 0.03555977 0.07173096 0.00421151]]\n",
            "\n",
            "@ Deep Learning>  predict: /xd/xd10_138_001.avi | 3\n",
            "[[2.1765071e-03 1.7777039e-04 1.0781852e-03 7.6695889e-01 3.8404267e-03\n",
            "  2.5273473e-03 7.0173568e-03 1.8165790e-02 2.5111553e-03 2.6905409e-03\n",
            "  5.6546133e-02 2.6647678e-02 1.3416850e-03 1.5083603e-03 7.8483755e-03\n",
            "  7.0548169e-02 2.8415695e-02]]\n",
            "\n",
            "@ Deep Learning>  predict: /om/om3_064_001.avi | 11\n",
            "[[2.02876870e-02 6.79031771e-04 1.32127851e-03 1.27881523e-02\n",
            "  4.77783903e-02 9.28820297e-03 1.18418345e-02 2.65359040e-02\n",
            "  9.76249389e-03 6.54928852e-04 2.06426941e-02 5.63790143e-01\n",
            "  2.28459481e-02 8.95277690e-03 2.97684986e-02 2.13007167e-01\n",
            "  5.49338729e-05]]\n",
            "\n",
            "@ Deep Learning>  predict: /nt/nt2_007_005.avi | 10\n",
            "[[3.5006478e-03 3.3097671e-04 8.5137218e-02 3.8334075e-02 3.2847218e-02\n",
            "  5.8661386e-02 1.3938946e-02 8.5460851e-03 7.6968996e-03 4.3349824e-04\n",
            "  6.4469725e-01 2.1388726e-02 8.4608258e-04 1.3648637e-02 3.5839934e-02\n",
            "  3.3641838e-02 5.1055977e-04]]\n",
            "\n",
            "@ Deep Learning>  predict: /xd/xd6_200_0021.avi | 5\n",
            "[[0.00633561 0.00114023 0.12709561 0.19535369 0.04867687 0.21037337\n",
            "  0.02726649 0.03222834 0.01410152 0.00068926 0.16333175 0.05800565\n",
            "  0.00119038 0.0064183  0.01410373 0.08517361 0.0085156 ]]\n",
            "\n",
            "@ Deep Learning>  predict: /ne/ne3_052_020.avi | 9\n",
            "[[2.9803187e-04 1.0034665e-04 4.3374836e-04 2.2193836e-03 4.2415908e-04\n",
            "  2.8967869e-04 1.1920917e-03 2.4963031e-03 1.3007649e-04 9.7191364e-01\n",
            "  6.7071081e-03 2.4600062e-03 2.9643241e-05 5.6522358e-03 3.9294404e-03\n",
            "  1.4269789e-03 2.9712345e-04]]\n",
            "\n",
            "@ Deep Learning>  predict: /na/na5_096_001_20F.avi | 3\n",
            "[[1.98469427e-03 1.10436219e-03 1.72294274e-01 4.89758313e-01\n",
            "  1.48247825e-02 5.31156585e-02 1.26294177e-02 2.25870311e-02\n",
            "  1.76646430e-02 9.33030504e-04 5.17191887e-02 6.17974028e-02\n",
            "  2.15583466e-04 2.07060715e-03 2.60315137e-03 4.28935923e-02\n",
            "  5.18041849e-02]]\n",
            "\n",
            "@ Deep Learning>  predict: /vd/vd3_055_003.avi | 13\n",
            "[[2.5280958e-04 5.7651021e-05 4.5760526e-04 4.9506349e-04 2.7839807e-03\n",
            "  1.0339454e-03 1.3859785e-03 1.7900890e-02 6.1588828e-04 2.6008373e-03\n",
            "  7.7054128e-03 7.6537281e-03 2.9352389e-04 9.4409418e-01 1.0260846e-02\n",
            "  2.4034285e-03 4.2175711e-06]]\n",
            "\n",
            "@ Deep Learning>  predict: /vk/vk8_043_003.avi | 3\n",
            "[[0.0015436  0.00065634 0.18723914 0.21007961 0.02028218 0.02166655\n",
            "  0.06405773 0.01559312 0.00519462 0.02092689 0.12495874 0.03705607\n",
            "  0.00028707 0.04118081 0.11110313 0.12028785 0.01788661]]\n",
            "\n",
            "@ Deep Learning>  predict: /dn/dn10_138_006.avi | 3\n",
            "[[6.7441259e-04 8.9327215e-05 9.0725918e-04 9.2695367e-01 3.5295100e-03\n",
            "  2.1850490e-03 3.4578117e-03 3.8888073e-03 2.7550955e-03 9.2590618e-04\n",
            "  1.3783811e-02 8.3351312e-03 3.3396258e-04 3.0517774e-03 9.8064160e-03\n",
            "  1.7242612e-02 2.0794629e-03]]\n",
            "\n",
            "@ Deep Learning>  predict: /dn/dn5_100_006_18F.avi | 3\n",
            "[[1.00057758e-03 3.47122579e-04 3.43359187e-02 8.30753088e-01\n",
            "  5.25109377e-03 1.17629189e-02 8.98435526e-03 7.26994034e-03\n",
            "  9.21312626e-03 1.33426522e-03 1.20154843e-02 1.95726678e-02\n",
            "  1.88350765e-04 2.79175281e-03 1.20595265e-02 3.64937969e-02\n",
            "  6.62606023e-03]]\n",
            "\n",
            "@ Deep Learning>  predict: /dn/dn9_168_003.avi | 3\n",
            "[[1.7116835e-03 1.1902147e-04 4.9413682e-04 9.0375948e-01 1.9938648e-03\n",
            "  1.6717071e-03 3.4136437e-03 6.1172536e-03 2.1585233e-03 9.4803318e-04\n",
            "  1.5479434e-02 1.0895844e-02 9.8853849e-04 4.6397778e-04 4.0089092e-03\n",
            "  3.3033136e-02 1.2742882e-02]]\n",
            "\n",
            "@ Deep Learning>  predict: /kc/kc8_024_001.avi | 3\n",
            "[[2.5638356e-03 1.0180353e-03 2.0307553e-01 4.5117119e-01 2.0722626e-02\n",
            "  7.1640566e-02 1.6153639e-02 2.7894115e-02 1.7135439e-02 1.1675027e-03\n",
            "  5.6404427e-02 4.7759432e-02 3.2913656e-04 2.6513501e-03 5.3483150e-03\n",
            "  5.0312992e-02 2.4651857e-02]]\n",
            "\n",
            "@ Deep Learning>  predict: /nc/nc1_113_001.avi | 15\n",
            "[[6.7313515e-02 1.1970419e-03 2.2089793e-03 4.7679588e-02 5.0794557e-02\n",
            "  1.6297689e-02 1.5343963e-02 2.0378305e-02 1.8965522e-02 5.0522631e-04\n",
            "  5.0559696e-02 2.5644559e-01 3.6632981e-02 4.3511135e-03 5.3456139e-02\n",
            "  3.5755175e-01 3.1839724e-04]]\n",
            "\n",
            "@ Deep Learning>  predict: /dn/dn6_209_001.avi | 3\n",
            "[[1.6636131e-03 4.5192224e-04 3.7195727e-02 5.1761758e-01 1.6327078e-02\n",
            "  1.4176974e-02 2.5954511e-02 8.1662098e-03 3.4010154e-03 1.4685861e-02\n",
            "  8.2454853e-02 5.3153817e-02 2.6053746e-04 7.5786132e-03 4.0809803e-02\n",
            "  1.4723134e-01 2.8870555e-02]]\n",
            "\n",
            "@ Deep Learning>  predict: /dn/dn3_050_015.avi | 3\n",
            "[[1.2458509e-03 6.8869354e-04 1.8308014e-02 6.7809010e-01 7.8601819e-03\n",
            "  3.8606133e-02 8.0734761e-03 1.0959172e-02 6.9088209e-03 5.1536434e-04\n",
            "  2.4042379e-02 1.6711071e-02 3.6594260e-04 1.2347489e-03 2.4251896e-03\n",
            "  2.5020037e-02 1.5894482e-01]]\n",
            "\n",
            "@ Deep Learning>  predict: /nt/nt4_072_001.avi | 14\n",
            "[[0.00179174 0.00051768 0.0189806  0.09111661 0.01913936 0.00800517\n",
            "  0.03839549 0.02377247 0.002433   0.03104038 0.18239376 0.0279613\n",
            "  0.00069398 0.10397867 0.36559117 0.07974052 0.00444818]]\n",
            "\n",
            "@ Deep Learning>  predict: /dn/dn7_195_004.avi | 3\n",
            "[[9.9822122e-04 9.0225090e-05 6.8522908e-04 9.1063088e-01 2.9833342e-03\n",
            "  1.7147001e-03 3.2177698e-03 5.0618541e-03 2.8588271e-03 8.2101574e-04\n",
            "  1.6426025e-02 1.1040008e-02 5.6064146e-04 1.4224721e-03 6.7914366e-03\n",
            "  2.7756030e-02 6.9413804e-03]]\n",
            "\n",
            "@ Deep Learning>  predict: /xt/xt4_072_002.avi | 14\n",
            "[[0.00205008 0.00089098 0.02665364 0.11771987 0.01520371 0.00939719\n",
            "  0.04042155 0.01333102 0.00189046 0.05205307 0.17932567 0.02565046\n",
            "  0.00040401 0.03836126 0.39780998 0.06532737 0.01350979]]\n",
            "\n",
            "@ Deep Learning>  predict: /vk/vk2_012_003.avi | 14\n",
            "[[5.9313746e-03 3.5575469e-04 4.4925407e-02 9.5518842e-02 3.4356661e-02\n",
            "  3.2097351e-02 3.2630969e-02 1.5318124e-02 1.3615561e-02 1.4365608e-03\n",
            "  2.1956074e-01 3.9480463e-02 2.3100176e-03 5.3337742e-02 3.3061561e-01\n",
            "  7.8432024e-02 7.6813260e-05]]\n",
            "\n",
            "@ Deep Learning>  predict: /nt/nt2_007_006.avi | 10\n",
            "[[6.9465945e-03 4.9373106e-04 1.2120882e-02 6.4972557e-02 3.4108162e-02\n",
            "  4.0871397e-02 1.0209669e-02 6.7273728e-03 6.7953682e-03 4.2858868e-04\n",
            "  6.6125166e-01 1.6031755e-02 1.4517454e-03 2.2864691e-03 7.5024008e-03\n",
            "  8.1066430e-02 4.6735238e-02]]\n",
            "\n",
            "@ Deep Learning>  predict: /dn/dn8_039_004.avi | 2\n",
            "[[0.00445131 0.00140646 0.27117708 0.26948085 0.02611865 0.09772566\n",
            "  0.0252308  0.03967117 0.02113878 0.00090929 0.08444638 0.0798595\n",
            "  0.00043571 0.00305471 0.00538101 0.05464775 0.0148649 ]]\n",
            "\n",
            "@ Deep Learning>  predict: /da/da8_027_001+11F.avi | 14\n",
            "[[0.00175327 0.00074011 0.02833648 0.09168541 0.01624146 0.00953317\n",
            "  0.04622292 0.01497676 0.00187492 0.04868373 0.15672435 0.02382815\n",
            "  0.00042832 0.05369258 0.42770848 0.068124   0.00944594]]\n",
            "\n",
            "@ Deep Learning>  predict: /dn/dn7_195_001.avi | 3\n",
            "[[2.7355624e-03 1.9105055e-04 3.0135657e-04 9.3494564e-01 1.2666888e-03\n",
            "  1.1497027e-03 2.0878611e-03 3.7590878e-03 2.1464287e-03 5.4808648e-04\n",
            "  4.6134121e-03 1.2694964e-02 2.1838800e-03 8.0001628e-05 1.5904771e-03\n",
            "  2.4691880e-02 5.0140428e-03]]\n",
            "\n",
            "@ Deep Learning>  predict: /nt/nt9_170_004.avi | 2\n",
            "[[3.8700665e-03 7.1292865e-04 4.5064327e-01 1.3357925e-01 2.3140220e-02\n",
            "  6.9053479e-02 2.7618576e-02 3.9848432e-02 2.5708718e-02 8.9954073e-04\n",
            "  9.0331614e-02 5.0797489e-02 3.5953068e-04 5.6767850e-03 1.9826710e-02\n",
            "  5.6635980e-02 1.2974929e-03]]\n",
            "\n",
            "@ Deep Learning>  predict: /dn/dn2_003_001.avi | 3\n",
            "[[1.4855010e-03 9.1227528e-05 2.9342392e-04 9.4153947e-01 1.1579954e-03\n",
            "  1.1973411e-03 2.1638456e-03 2.9039700e-03 1.7158516e-03 5.2444730e-04\n",
            "  8.2271462e-03 5.9267916e-03 7.9985749e-04 2.1290238e-04 2.4307156e-03\n",
            "  1.9948339e-02 9.3812402e-03]]\n",
            "\n",
            "@ Deep Learning>  predict: /dn/dn3_054_001.avi | 10\n",
            "[[0.00337973 0.00069918 0.00572915 0.09834965 0.01529817 0.00342795\n",
            "  0.02597906 0.0516287  0.00280417 0.09550502 0.38211668 0.10004503\n",
            "  0.0020126  0.05593287 0.05541891 0.08517374 0.0164994 ]]\n",
            "\n",
            "@ Deep Learning>  predict: /om/om3_065_002.avi | 10\n",
            "[[0.00200016 0.00044812 0.00699609 0.06196409 0.01544286 0.00302378\n",
            "  0.02661514 0.01701681 0.00238232 0.04423609 0.42857292 0.03888933\n",
            "  0.00066264 0.08045273 0.19048652 0.07111527 0.00969517]]\n",
            "\n",
            "@ Deep Learning>  predict: /vd/vd3_055_004.avi | 13\n",
            "[[2.86771305e-04 4.01858924e-05 6.98718883e-04 4.61012649e-04\n",
            "  3.13805952e-03 1.17875764e-03 1.75850489e-03 1.07216975e-02\n",
            "  5.68993797e-04 1.13095401e-03 1.04797883e-02 6.13342877e-03\n",
            "  2.33266634e-04 9.48466837e-01 1.14744464e-02 3.22492374e-03\n",
            "  3.64712400e-06]]\n",
            "\n",
            "@ Deep Learning>  predict: /vd/vd3_046_003.avi | 14\n",
            "[[4.4908267e-03 2.6202478e-04 1.0083414e-02 4.1603208e-02 3.3648558e-02\n",
            "  2.3150953e-02 1.8595897e-02 1.3118087e-02 1.0406230e-02 1.0279492e-03\n",
            "  8.4372215e-02 3.0424019e-02 3.5021286e-03 1.7824690e-01 4.7301993e-01\n",
            "  7.4001424e-02 4.6234534e-05]]\n",
            "\n",
            "@ Deep Learning>  predict: /lg/lg2_009_001_20F.avi | 3\n",
            "[[0.00577037 0.00133723 0.10130788 0.31579795 0.03834951 0.18660654\n",
            "  0.02776231 0.03347328 0.01488839 0.00077652 0.11118305 0.05523236\n",
            "  0.00112536 0.00513464 0.01175753 0.07320449 0.01629262]]\n",
            "\n",
            "@ Deep Learning>  predict: /dn/dn6_199_001.avi | 2\n",
            "[[3.7767305e-03 1.1738255e-03 3.7939540e-01 1.9232202e-01 2.6141297e-02\n",
            "  8.7462641e-02 2.2415709e-02 3.4971576e-02 1.9607613e-02 8.4461051e-04\n",
            "  8.5471824e-02 7.2844051e-02 3.3980235e-04 2.9141242e-03 5.0866408e-03\n",
            "  5.4492760e-02 1.0739395e-02]]\n",
            "\n"
          ],
          "name": "stdout"
        }
      ]
    },
    {
      "cell_type": "markdown",
      "metadata": {
        "id": "iww7NJOmI8rX"
      },
      "source": [
        "Bây giờ hãy thử put text và save video về thử xem."
      ]
    },
    {
      "cell_type": "code",
      "metadata": {
        "id": "by7qvufrJDid"
      },
      "source": [
        "def fun_predict(model, tranfer_value):\n",
        "    arrPre = []\n",
        "    arrPre.append(tranfer_value)\n",
        "    Real = model.predict(np.array(arrPre))\n",
        "    pre = np.argmax(Real)\n",
        "\n",
        "    print(Real, pre)\n",
        "    print('\\r')\n",
        "    return pre, Real[0][pre]\n",
        "\n",
        "#version 1\n",
        "def fun_loadVideoPredictPutTextAndSave(modelCNN, modelLSTM, pathLoadVideo, pathSave, perFameInputLSTM= 20, tranferSize: int = 4096):\n",
        "    if pathLoadVideo is None or pathSave is None or perFameInputLSTM is None or modelCNN is None:\n",
        "        return\n",
        "\n",
        "    cap = cv2.VideoCapture(pathLoadVideo)\n",
        "    isContinue, frame = cap.read()\n",
        "\n",
        "    size = fun_getSizeOfFrame(frame= frame)\n",
        "    wr = cv2.VideoWriter(pathSave, cv2.VideoWriter_fourcc(*'MJPG'), 25, size)\n",
        "    countFrame = 0\n",
        "\n",
        "    while True:\n",
        "      if not isContinue:\n",
        "        break\n",
        "      \n",
        "      imgs = []\n",
        "      trans = []\n",
        "      count = perFameInputLSTM\n",
        "\n",
        "      while count > 0:\n",
        "        imgs.append(frame)\n",
        "        trans.append(frame)\n",
        "        isContinue, frame = cap.read()\n",
        "        count -= 1\n",
        "\n",
        "      if len(imgs) != perFameInputLSTM:\n",
        "        break\n",
        "\n",
        "      trans = getTransferValue(trans)\n",
        "\n",
        "      pre, real = fun_predict(model= model, tranfer_value= trans)\n",
        "\n",
        "      color=(100, 200, 255)\n",
        "      conv = ''\n",
        "      if pre == 0:\n",
        "        conv = 'Danh'\n",
        "        color = (150, 250, 255)\n",
        "      elif pre == 1:\n",
        "        color = (200, 100, 255)\n",
        "        conv = 'Da'\n",
        "      elif pre == 2:\n",
        "        conv = 'Nam Toc'\n",
        "\n",
        "      text = 'Predict: {0} -> Real: [ {1} ]'.format(conv, real)\n",
        "\n",
        "      for ff in imgs:\n",
        "        countFrame += 1\n",
        "        # putText\n",
        "        cv2.putText(img=ff,\n",
        "                    text=text,\n",
        "                    org=(50, 100),\n",
        "                    fontScale=1,\n",
        "                    fontFace=cv2.FONT_HERSHEY_SIMPLEX,\n",
        "                    thickness=2,\n",
        "                    color= color )\n",
        "\n",
        "        cv2.putText(img=ff,\n",
        "                    text='Frame Count: {0}'.format(countFrame),\n",
        "                    org=(50, 150),\n",
        "                    fontScale=1,\n",
        "                    fontFace=cv2.FONT_HERSHEY_SIMPLEX,\n",
        "                    thickness=2,\n",
        "                    color= color )\n",
        "\n",
        "        wr.write(ff)\n",
        "\n",
        "      isContinue, frame = cap.read()\n",
        "\n",
        "    wr.release()\n",
        "    cap.release()\n",
        "    cv2.destroyAllWindows()\n"
      ],
      "execution_count": 64,
      "outputs": []
    },
    {
      "cell_type": "code",
      "metadata": {
        "id": "NyGixYdc3JV1",
        "outputId": "5575b610-f8f6-436d-f1df-593528914e2a",
        "colab": {
          "base_uri": "https://localhost:8080/",
          "height": 391
        }
      },
      "source": [
        "model = load_model(DIR_MODEL_LSTM)\n",
        "model.summary()"
      ],
      "execution_count": 65,
      "outputs": [
        {
          "output_type": "stream",
          "text": [
            "Model: \"sequential\"\n",
            "_________________________________________________________________\n",
            "Layer (type)                 Output Shape              Param #   \n",
            "=================================================================\n",
            "lstm (LSTM)                  (None, 512)               9439232   \n",
            "_________________________________________________________________\n",
            "dense (Dense)                (None, 1024)              525312    \n",
            "_________________________________________________________________\n",
            "activation (Activation)      (None, 1024)              0         \n",
            "_________________________________________________________________\n",
            "dense_1 (Dense)              (None, 50)                51250     \n",
            "_________________________________________________________________\n",
            "activation_1 (Activation)    (None, 50)                0         \n",
            "_________________________________________________________________\n",
            "dense_2 (Dense)              (None, 17)                867       \n",
            "_________________________________________________________________\n",
            "activation_2 (Activation)    (None, 17)                0         \n",
            "=================================================================\n",
            "Total params: 10,016,661\n",
            "Trainable params: 10,016,661\n",
            "Non-trainable params: 0\n",
            "_________________________________________________________________\n"
          ],
          "name": "stdout"
        }
      ]
    },
    {
      "cell_type": "code",
      "metadata": {
        "id": "PrYL_eYBMUcq",
        "outputId": "48d337ae-dabb-460b-8f27-26cf607d4e77",
        "colab": {
          "base_uri": "https://localhost:8080/",
          "height": 1000
        }
      },
      "source": [
        "fun_loadVideoPredictPutTextAndSave(modelCNN= imgModelTransfer, modelLSTM= model, pathLoadVideo= DIR_ROOT + '/Tests/video_test7.mp4',\n",
        "                                   pathSave= DIR_ROOT + '/Tests/video_test7_out.avi', perFameInputLSTM= 20)"
      ],
      "execution_count": 67,
      "outputs": [
        {
          "output_type": "stream",
          "text": [
            "[[5.1347916e-03 2.8760213e-04 8.9627542e-03 5.2117974e-01 2.7546152e-02\n",
            "  1.4756451e-02 2.1180442e-02 1.9527458e-02 1.0487816e-02 2.2281215e-03\n",
            "  1.3201849e-01 3.5049573e-02 2.0131436e-03 1.9452341e-02 9.0801023e-02\n",
            "  8.8718362e-02 6.5577065e-04]] 3\n",
            "\n",
            "[[0.00623023 0.00037562 0.0197699  0.30963737 0.03679128 0.02987615\n",
            "  0.02458843 0.01926603 0.01150506 0.00189071 0.20597608 0.03447659\n",
            "  0.00243176 0.02998772 0.1816248  0.08525355 0.00031867]] 3\n",
            "\n",
            "[[5.3246114e-03 5.0269748e-04 7.6957978e-04 7.9410893e-01 3.9006770e-03\n",
            "  2.7323137e-03 8.4082959e-03 1.8746592e-02 4.3715099e-03 2.3766230e-03\n",
            "  1.7983833e-02 4.8743468e-02 6.1608087e-03 4.2364647e-04 4.3700156e-03\n",
            "  6.8270199e-02 1.2806201e-02]] 3\n",
            "\n",
            "[[3.26471403e-03 2.42431182e-04 3.65992222e-04 9.17422414e-01\n",
            "  1.61015405e-03 1.39439001e-03 2.86772684e-03 5.13475249e-03\n",
            "  2.59467610e-03 7.36758811e-04 6.16489444e-03 1.68433506e-02\n",
            "  2.76269787e-03 1.12953734e-04 1.95947126e-03 3.02971862e-02\n",
            "  6.22533727e-03]] 3\n",
            "\n",
            "[[0.01090094 0.00070763 0.00261035 0.23248684 0.02442984 0.01052717\n",
            "  0.02775383 0.18128593 0.01234069 0.0037462  0.04476995 0.16508321\n",
            "  0.01374654 0.01174199 0.03085514 0.22271283 0.00430093]] 3\n",
            "\n",
            "[[0.00414148 0.00110851 0.29479593 0.21336858 0.0312441  0.12133271\n",
            "  0.02794283 0.03996838 0.0180608  0.00078559 0.09912973 0.06399436\n",
            "  0.0005495  0.00430421 0.00904843 0.06158954 0.00863532]] 2\n",
            "\n",
            "[[3.6446836e-03 1.0038359e-03 4.5846868e-01 1.2406878e-01 2.5046069e-02\n",
            "  9.2097573e-02 2.2829594e-02 3.5674788e-02 1.8672040e-02 7.0601731e-04\n",
            "  8.8986091e-02 6.1897565e-02 3.3503727e-04 3.4676837e-03 6.9600651e-03\n",
            "  5.0934710e-02 5.2069104e-03]] 2\n",
            "\n",
            "[[1.9619213e-03 9.2120870e-04 5.5507358e-02 6.6815442e-01 1.3383363e-02\n",
            "  6.3972719e-02 1.3507862e-02 1.8666910e-02 1.0988744e-02 7.7956752e-04\n",
            "  3.4944519e-02 3.2701474e-02 3.9673966e-04 2.0779467e-03 4.2014569e-03\n",
            "  3.2920565e-02 4.4913244e-02]] 3\n",
            "\n",
            "[[0.00429719 0.0012815  0.3402044  0.20513509 0.02645591 0.09792927\n",
            "  0.02501759 0.03954957 0.02083637 0.00085013 0.08861136 0.07537639\n",
            "  0.00040436 0.00325081 0.00600711 0.05459582 0.01019715]] 2\n",
            "\n",
            "[[0.00420036 0.00130516 0.32861257 0.22521894 0.02573518 0.09488995\n",
            "  0.02441631 0.03873062 0.02098965 0.00088732 0.08497421 0.07542432\n",
            "  0.00039609 0.00314907 0.00564949 0.0536516  0.01176922]] 2\n",
            "\n",
            "[[1.7567597e-03 1.1118040e-03 6.6096544e-02 6.6780269e-01 9.8790498e-03\n",
            "  4.5340832e-02 9.8852618e-03 1.5441612e-02 1.3157296e-02 8.7455788e-04\n",
            "  2.9346205e-02 3.6932588e-02 2.2131937e-04 1.3415420e-03 2.5915802e-03\n",
            "  2.9592182e-02 6.8628259e-02]] 3\n",
            "\n",
            "[[2.9414406e-03 1.3075992e-03 2.2144796e-01 4.0303984e-01 1.8840311e-02\n",
            "  6.9455497e-02 1.7786548e-02 2.8820006e-02 1.9681899e-02 1.0006760e-03\n",
            "  6.0978856e-02 7.0003770e-02 3.0071911e-04 2.4389410e-03 3.3624407e-03\n",
            "  4.5204002e-02 3.3389434e-02]] 3\n",
            "\n",
            "[[8.7105762e-03 7.1538991e-04 9.0884732e-04 7.2912037e-01 6.6636829e-03\n",
            "  3.9755162e-03 9.3895458e-03 2.1034267e-02 7.9535274e-03 1.7450041e-03\n",
            "  1.4220100e-02 7.2038777e-02 9.4248792e-03 7.2405679e-04 6.1400835e-03\n",
            "  9.8348588e-02 8.8868113e-03]] 3\n",
            "\n",
            "[[0.06317941 0.00118137 0.00278357 0.26296788 0.02952969 0.01433388\n",
            "  0.01131651 0.01465105 0.01862651 0.00086073 0.10776615 0.0964136\n",
            "  0.0248998  0.00154515 0.02707768 0.31996936 0.00289765]] 15\n",
            "\n",
            "[[0.01715514 0.00061048 0.00411824 0.32289937 0.0229391  0.01851714\n",
            "  0.0088803  0.00936647 0.00864193 0.00113551 0.3365411  0.02523363\n",
            "  0.00593164 0.00154491 0.01344287 0.15393615 0.04910609]] 10\n",
            "\n",
            "[[6.5301391e-03 3.4679502e-04 4.6209446e-03 5.7731140e-02 1.9443536e-02\n",
            "  1.7117061e-02 6.3799112e-03 4.3003322e-03 4.6541551e-03 3.5836402e-04\n",
            "  7.2086239e-01 9.3819331e-03 1.9230779e-03 1.2260030e-03 6.6228253e-03\n",
            "  5.8520980e-02 7.9980403e-02]] 10\n",
            "\n",
            "[[8.0303410e-03 3.7078769e-04 1.3907981e-03 7.4767369e-01 7.3570726e-03\n",
            "  6.4650336e-03 5.0097629e-03 6.5477327e-03 5.1660053e-03 1.0126065e-03\n",
            "  6.2250748e-02 1.5749054e-02 3.6534427e-03 5.8316271e-04 5.4698181e-03\n",
            "  8.0401883e-02 4.2868167e-02]] 3\n",
            "\n",
            "[[4.0775663e-03 1.7654433e-04 5.0861617e-03 1.9891381e-02 2.2763981e-02\n",
            "  1.4854881e-02 4.6771676e-03 2.8383583e-03 3.1004653e-03 2.1537150e-04\n",
            "  8.5666996e-01 7.4857520e-03 9.9519314e-04 1.5287041e-03 7.0359590e-03\n",
            "  4.0665008e-02 7.9375161e-03]] 10\n",
            "\n",
            "[[0.00843406 0.00127604 0.06727502 0.1890488  0.05485271 0.16334406\n",
            "  0.02379459 0.02548032 0.01429116 0.00080257 0.25066376 0.04621521\n",
            "  0.0016012  0.00524356 0.01196201 0.10645864 0.02925633]] 10\n",
            "\n",
            "[[0.00220033 0.00083422 0.0146269  0.4321795  0.0106326  0.04438904\n",
            "  0.00803662 0.00974946 0.00696741 0.00050187 0.04328775 0.01413493\n",
            "  0.0005991  0.00107366 0.00230134 0.03504976 0.3734355 ]] 3\n",
            "\n",
            "[[2.3477713e-03 7.9181721e-04 1.2086236e-02 3.5326564e-01 1.0115380e-02\n",
            "  4.1747242e-02 7.1311346e-03 8.2210200e-03 6.3276151e-03 4.3595242e-04\n",
            "  4.6913229e-02 1.2626120e-02 6.3129113e-04 9.0284128e-04 2.0244168e-03\n",
            "  3.5503797e-02 4.5892844e-01]] 16\n",
            "\n",
            "[[0.00232234 0.00079963 0.01249684 0.3664078  0.01019917 0.0421438\n",
            "  0.00728798 0.00847436 0.00643691 0.00044715 0.04624197 0.01286062\n",
            "  0.00062584 0.0009288  0.00206871 0.03541698 0.44484112]] 16\n",
            "\n",
            "[[2.4239442e-03 7.8444433e-04 1.1528974e-02 3.3108222e-01 1.0117165e-02\n",
            "  4.1724589e-02 6.9311992e-03 7.8456905e-03 6.1941519e-03 4.2024456e-04\n",
            "  4.8849341e-02 1.2351869e-02 6.4801949e-04 8.7498903e-04 1.9765967e-03\n",
            "  3.6060169e-02 4.8018643e-01]] 16\n",
            "\n",
            "[[2.3731319e-03 7.2912022e-04 1.0079781e-02 2.9383808e-01 9.3777496e-03\n",
            "  3.8233496e-02 6.2601473e-03 6.9758240e-03 5.7117040e-03 3.7677481e-04\n",
            "  4.8628107e-02 1.1371170e-02 6.3532707e-04 7.6175341e-04 1.7678542e-03\n",
            "  3.5144787e-02 5.2773523e-01]] 16\n",
            "\n",
            "[[1.5785866e-03 4.7864887e-04 6.1202934e-03 2.2144318e-01 5.6052958e-03\n",
            "  2.0961454e-02 4.0361034e-03 4.7259112e-03 3.9416146e-03 2.4537666e-04\n",
            "  3.3263925e-02 7.6964847e-03 4.4344514e-04 3.8487816e-04 1.0121600e-03\n",
            "  2.5587566e-02 6.6247511e-01]] 16\n",
            "\n",
            "[[2.2796674e-03 7.6090044e-04 2.5924057e-01 4.4349188e-01 1.4072075e-02\n",
            "  4.6601776e-02 1.7603401e-02 2.9794263e-02 2.3483813e-02 1.2056719e-03\n",
            "  4.3662429e-02 5.2789651e-02 2.7529261e-04 4.3519465e-03 7.2317603e-03\n",
            "  4.3837830e-02 9.3171299e-03]] 3\n",
            "\n",
            "[[1.9840610e-03 9.5527136e-04 3.3143479e-01 3.4034953e-01 1.6242215e-02\n",
            "  6.0195871e-02 1.4779283e-02 2.6570935e-02 1.9222161e-02 9.9448464e-04\n",
            "  5.7569444e-02 5.5782281e-02 2.2830912e-04 3.1533323e-03 3.8251474e-03\n",
            "  4.1675664e-02 2.5037350e-02]] 3\n",
            "\n",
            "[[2.1787684e-03 8.1302598e-04 3.3722764e-01 3.4985909e-01 1.5510795e-02\n",
            "  5.5415798e-02 1.6888950e-02 3.0582214e-02 2.1997567e-02 1.1113700e-03\n",
            "  5.1613748e-02 5.2677624e-02 2.5763860e-04 4.1027023e-03 5.8956519e-03\n",
            "  4.2023089e-02 1.1844306e-02]] 3\n",
            "\n",
            "[[1.9997496e-03 8.5667573e-04 4.2173916e-01 2.6017141e-01 1.6769079e-02\n",
            "  6.2153276e-02 1.5643045e-02 2.7580829e-02 1.8811254e-02 9.5830427e-04\n",
            "  5.8626872e-02 5.1135704e-02 2.3160837e-04 3.5616700e-03 4.4493480e-03\n",
            "  3.9817605e-02 1.5494374e-02]] 2\n",
            "\n",
            "[[2.0090556e-03 8.5095415e-04 3.1820187e-01 3.7144059e-01 1.5039663e-02\n",
            "  5.4931726e-02 1.5497778e-02 2.8363951e-02 2.1067375e-02 1.0813737e-03\n",
            "  5.1649213e-02 5.2902944e-02 2.3870004e-04 3.7115552e-03 4.9632024e-03\n",
            "  4.1285150e-02 1.6764857e-02]] 3\n",
            "\n",
            "[[1.8998467e-03 9.0483006e-04 3.4701601e-01 3.3504069e-01 1.5586458e-02\n",
            "  5.8556791e-02 1.4620767e-02 2.6629359e-02 1.9478934e-02 1.0064781e-03\n",
            "  5.5662122e-02 5.3160019e-02 2.2332727e-04 3.3629995e-03 4.0968396e-03\n",
            "  4.0500339e-02 2.2254234e-02]] 2\n",
            "\n",
            "!Error To Resize of 13\n",
            "!Error To Resize of 14\n",
            "!Error To Resize of 15\n",
            "!Error To Resize of 16\n",
            "!Error To Resize of 17\n",
            "!Error To Resize of 18\n",
            "!Error To Resize of 19\n",
            "[[1.9570806e-03 8.4617268e-04 4.2437303e-01 2.6089597e-01 1.6490860e-02\n",
            "  6.1493400e-02 1.5454316e-02 2.7368132e-02 1.8784072e-02 9.5959310e-04\n",
            "  5.7892613e-02 5.0385751e-02 2.2842665e-04 3.5924700e-03 4.4528907e-03\n",
            "  3.9324798e-02 1.5500456e-02]] 2\n",
            "\n"
          ],
          "name": "stdout"
        }
      ]
    },
    {
      "cell_type": "markdown",
      "metadata": {
        "id": "wD1iJhKcjjer"
      },
      "source": [
        "**End**\n",
        "\n",
        "---\n",
        "\n"
      ]
    }
  ]
}